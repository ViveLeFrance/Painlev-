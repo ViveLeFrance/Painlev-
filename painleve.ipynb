{
 "cells": [
  {
   "cell_type": "code",
   "execution_count": 1,
   "metadata": {},
   "outputs": [
    {
     "data": {
      "text/plain": [
       "'// ** loaded critic01.lib (0.01,2002/02/11\")'"
      ]
     },
     "execution_count": 1,
     "metadata": {},
     "output_type": "execute_result"
    }
   ],
   "source": [
    "from typing import List\n",
    "import numpy as np\n",
    "from sage.all import *\n",
    "_=singular.lib('sing.lib')\n",
    "singular.eval('LIB \"critic01.lib\"')"
   ]
  },
  {
   "cell_type": "code",
   "execution_count": 2,
   "metadata": {},
   "outputs": [],
   "source": [
    "class LefschetzFibration:\n",
    "    def __init__(self, variables: List[Expression], domain_eq: Expression, fibration_eq: Expression) -> None:\n",
    "        self.variables = variables\n",
    "        self.domain = domain_eq\n",
    "        self.fibration = fibration_eq\n",
    "    \n",
    "    def __call__(self, argument):\n",
    "        return self.fibration.subs(argument) \n",
    "    \n",
    "    def get_critical_points(self):\n",
    "        \"\"\"Returns the set of critical points.\"\"\"\n",
    "        G = self.domain\n",
    "        f = self.fibration\n",
    "        a = self.variables[-1]\n",
    "        variables = self.variables[:-1]\n",
    "\n",
    "        constraints = [G==0]\n",
    "        constraints.extend([G.diff(variable) == a*f.diff(variable) for variable in variables])\n",
    "        \n",
    "        points = solve(constraints, self.variables)\n",
    "\n",
    "        return points\n",
    "    \n",
    "    def get_critical_values(self):\n",
    "        \"Returns the set of critical values.\"\n",
    "        crits = self.get_critical_points()\n",
    "        return [self.__call__(x) for x in crits]\n",
    "    \n",
    "    def get_fibre(self, point, variable=None): \n",
    "        \"\"\"Returns the definig equation (or equations) for the fibre over 'point' as a list. Specify 'variable'\n",
    "        to solve the equation 'f = t' for the variable specified. If no variable is chosen,\n",
    "        the first one is taken by default.\"\"\"\n",
    "        if variable is None:\n",
    "            variable = self.variables[0]\n",
    "\n",
    "        # Solve {f == t} for the specified variable\n",
    "        solved_eqns = solve(self.fibration == point, variable)\n",
    "\n",
    "        # Substitute in the defining equation for the domain\n",
    "\n",
    "        return [self.domain.subs(eqn.simplify()) for eqn in solved_eqns]\n",
    "\n",
    "    def milnor_number(self, point):\n",
    "        \"\"\"Returns the Milnor number of the fibre over 'point'. The fibre should be generic, so the function will return \n",
    "        an error if 'point' is a critical value.\"\"\"\n",
    "\n",
    "        fibre = self.get_fibre(point)\n",
    "\n",
    "        poly = fibre[0] - point\n",
    "\n",
    "        occuring_variables = []\n",
    "        for var in self.variables:\n",
    "            if str(var) in str(poly):\n",
    "                occuring_variables.append(var)\n",
    "\n",
    "        varstring = ', '.join(str(var) for var in occuring_variables)\n",
    "        varstring = f'({varstring})'\n",
    "\n",
    "        ring = singular.ring(0, varstring, 'dp')\n",
    "        poly_singular = singular.poly(str(poly))\n",
    "\n",
    "        return poly_singular.milnor()\n",
    "\n",
    "    def bodin_crit(self, point):\n",
    "        \"\"\"Calls the crit function from the singular library written by\n",
    "        Arnaud Bodin, to be evaluated at 'point'.\"\"\"\n",
    "\n",
    "        fibre = self.get_fibre(point)\n",
    "\n",
    "        poly = fibre[0] - point\n",
    "\n",
    "        occuring_variables = []\n",
    "        for var in self.variables:\n",
    "            if str(var) in str(poly):\n",
    "                occuring_variables.append(var)\n",
    "\n",
    "        varstring = ', '.join(str(var) for var in occuring_variables)\n",
    "        varstring = f'({varstring}, t)'\n",
    "\n",
    "        print(varstring)\n",
    "\n",
    "        singular.eval(f'ring r=0,{varstring},dp')\n",
    "        singular.eval(f'poly f={str(poly)}')\n",
    "        response = singular.eval('crit(f)')\n",
    "\n",
    "        return response\n",
    "\n",
    "    \n",
    "\n",
    "\n",
    "\n"
   ]
  },
  {
   "cell_type": "markdown",
   "metadata": {},
   "source": [
    "## Initialize the Lefschetz Fibration and plot critical values"
   ]
  },
  {
   "cell_type": "code",
   "execution_count": 3,
   "metadata": {},
   "outputs": [],
   "source": [
    "# Declare variables to take values in complex numbers\n",
    "x,y,z,a = var('x, y, z, a', domain = CC)\n",
    "\n",
    "# Variables to use to compute the Milnor number at infinity\n",
    "\n",
    "\n",
    "\n",
    "# Define a real parameter\n",
    "\n",
    "t = var('t', domain = RR)\n",
    "# alpha = var('alpha', domain = CC)\n",
    "\n",
    "# Equation of affine surface\n",
    "G_eq = x*y*z + x^2 - y^2  + -1\n",
    "# G_eq = G_eq.subs(alpha = 9)\n",
    "\n",
    "# Define Lefschetz fibration from Casals-Murphy p.40\n",
    "fibration_eq = -3*x - 2*z + y\n",
    "\n",
    "f = LefschetzFibration([x,y,z,a], G_eq, fibration_eq)"
   ]
  },
  {
   "cell_type": "code",
   "execution_count": 4,
   "metadata": {},
   "outputs": [
    {
     "data": {
      "text/plain": [
       "7"
      ]
     },
     "execution_count": 4,
     "metadata": {},
     "output_type": "execute_result"
    }
   ],
   "source": [
    "crit_points_f = f.get_critical_points()\n",
    "crit_values_f = f.get_critical_values()\n",
    "\n",
    "len(crit_points_f)\n"
   ]
  },
  {
   "cell_type": "code",
   "execution_count": 17,
   "metadata": {},
   "outputs": [
    {
     "name": "stdout",
     "output_type": "stream",
     "text": [
      "-3.83105068776627 - 1.0016595783699271*I\n",
      "-3.831050687766271 + 1.0016595783699271*I\n",
      "5.242081054250536 - 2.38780473990505*I\n",
      "5.242081054250535 + 2.3878047399050506*I\n",
      "-1.3411330795625036 - 8.83206714329931*I\n",
      "-1.3411330795625043 + 8.83206714329931*I\n",
      "-5.473128141049557\n"
     ]
    }
   ],
   "source": [
    "for value in crit_values_f:\n",
    "    print(value)"
   ]
  },
  {
   "cell_type": "code",
   "execution_count": 5,
   "metadata": {},
   "outputs": [
    {
     "data": {
      "image/png": "[encoded data removed]",
      "text/plain": [
       "Graphics object consisting of 1 graphics primitive"
      ]
     },
     "execution_count": 5,
     "metadata": {},
     "output_type": "execute_result"
    }
   ],
   "source": [
    "plot_points = [(value.real(), value.imag()) for value in crit_values_f]\n",
    "\n",
    "scatter_plot(plot_points, marker='s', title=\"Critical Values of f\")"
   ]
  },
  {
   "cell_type": "markdown",
   "metadata": {},
   "source": [
    "## Determining a matching path"
   ]
  },
  {
   "cell_type": "code",
   "execution_count": 6,
   "metadata": {},
   "outputs": [],
   "source": [
    "# Choice of regular fibre. In this case, 0 is a regular fibre.\n",
    "\n",
    "\n",
    "fibre_t = f.get_fibre(t, y)[0].simplify()\n",
    "fibre_0 = fibre_t.subs(t==0)"
   ]
  },
  {
   "cell_type": "code",
   "execution_count": 27,
   "metadata": {},
   "outputs": [
    {
     "name": "stdout",
     "output_type": "stream",
     "text": [
      "points: 6, values: 6\n"
     ]
    }
   ],
   "source": [
    "# Define the bifibration on a regular fibre\n",
    "\n",
    "rho = LefschetzFibration([x, y, z, a], fibre_0, -3*x+z)\n",
    "crit_points_rho = rho.get_critical_points()\n",
    "crit_values_rho = rho.get_critical_values()\n",
    "\n",
    "print(f'points: {len(crit_points_rho)}, values: {len(crit_values_rho)}')"
   ]
  },
  {
   "cell_type": "code",
   "execution_count": 28,
   "metadata": {},
   "outputs": [
    {
     "data": {
      "image/png": "[encoded data removed]",
      "text/plain": [
       "Graphics object consisting of 1 graphics primitive"
      ]
     },
     "execution_count": 28,
     "metadata": {},
     "output_type": "execute_result"
    }
   ],
   "source": [
    "plot_points = [(value.real(), value.imag()) for value in crit_values_rho]\n",
    "scatter_plot(plot_points, marker='s', title='Branch Points of rho')"
   ]
  },
  {
   "cell_type": "code",
   "execution_count": 50,
   "metadata": {},
   "outputs": [],
   "source": [
    "matching_critical_value = 6 # Choose the index of the corresponding critical value of f to which we study a matching path"
   ]
  },
  {
   "cell_type": "code",
   "execution_count": 51,
   "metadata": {},
   "outputs": [],
   "source": [
    "matching_path = {}\n",
    "for s in np.linspace(0,1,71):\n",
    "    fibre_s = fibre_t.subs(t==s*crit_values_f[matching_critical_value])\n",
    "    rho_s = LefschetzFibration([x, y, z, a], fibre_s, rho.fibration)\n",
    "    matching_path[s] = rho_s.get_critical_values()\n"
   ]
  },
  {
   "cell_type": "code",
   "execution_count": 52,
   "metadata": {},
   "outputs": [
    {
     "data": {
      "image/png": "[encoded data removed]",
      "text/plain": [
       "Graphics object consisting of 2 graphics primitives"
      ]
     },
     "metadata": {},
     "output_type": "display_data"
    }
   ],
   "source": [
    "plot_points_highlight = points([(value.real(), value.imag()) for value in matching_path[0]], color='red')\n",
    "\n",
    "\n",
    "\n",
    "plot_points = points([(value.real(), value.imag()) for crit_values in list(matching_path.values()) for value in crit_values])\n",
    "plot = plot_points+plot_points_highlight\n",
    "plot.show()"
   ]
  },
  {
   "cell_type": "markdown",
   "metadata": {},
   "source": [
    "## Computing the homotopy type of a regular fibre"
   ]
  },
  {
   "cell_type": "code",
   "execution_count": 53,
   "metadata": {},
   "outputs": [
    {
     "data": {
      "text/plain": [
       "4"
      ]
     },
     "execution_count": 53,
     "metadata": {},
     "output_type": "execute_result"
    }
   ],
   "source": [
    "f.milnor_number(0)"
   ]
  },
  {
   "cell_type": "code",
   "execution_count": 54,
   "metadata": {},
   "outputs": [
    {
     "data": {
      "text/plain": [
       "2"
      ]
     },
     "execution_count": 54,
     "metadata": {},
     "output_type": "execute_result"
    }
   ],
   "source": [
    "rho.milnor_number(0)"
   ]
  },
  {
   "cell_type": "code",
   "execution_count": 12,
   "metadata": {},
   "outputs": [
    {
     "name": "stdout",
     "output_type": "stream",
     "text": [
      "(y, z, t)\n"
     ]
    },
    {
     "data": {
      "text/plain": [
       "'Polynomial : 1/3y2z-2/3yz2-8/9y2-4/9yz+4/9z2-1\\nAffine critical values are the roots of 2187t4+181292t3+664130t2+825900t+340875\\nAffine Milnor number : 4\\nDetails of affine critical values :\\n  2187t3+179105t2+485025t+340875   3  \\n  t+1   1  \\nCritical values at infinity are the roots of 1\\nMilnor number at infinity : 0'"
      ]
     },
     "execution_count": 12,
     "metadata": {},
     "output_type": "execute_result"
    }
   ],
   "source": [
    "f.bodin_crit(0)"
   ]
  },
  {
   "cell_type": "code",
   "execution_count": 49,
   "metadata": {},
   "outputs": [
    {
     "name": "stdout",
     "output_type": "stream",
     "text": [
      "(z, t)\n"
     ]
    },
    {
     "ename": "SingularError",
     "evalue": "Singular error:\nPolynomial : z\nAffine critical values are the roots of 1\nAffine Milnor number : 0\n   ? incompatible type in list assignment\n   ? error occurred in or before critic01.lib::iscoordgeneric line 312: `    P = L[2..n];   // Affine polar curve`\n   ? leaving critic01.lib::iscoordgeneric\n   skipping text from `;` error at token `)`\n   ? leaving critic01.lib::critinf\n   ? leaving critic01.lib::crit",
     "output_type": "error",
     "traceback": [
      "\u001b[0;31m---------------------------------------------------------------------------\u001b[0m",
      "\u001b[0;31mSingularError\u001b[0m                             Traceback (most recent call last)",
      "\u001b[0;32m<ipython-input-49-7e22a8f21c7b>\u001b[0m in \u001b[0;36m<module>\u001b[0;34m\u001b[0m\n\u001b[1;32m      2\u001b[0m \u001b[0mg\u001b[0m \u001b[0;34m=\u001b[0m \u001b[0mLefschetzFibration\u001b[0m\u001b[0;34m(\u001b[0m\u001b[0;34m[\u001b[0m\u001b[0mx\u001b[0m\u001b[0;34m,\u001b[0m\u001b[0my\u001b[0m\u001b[0;34m,\u001b[0m \u001b[0mz\u001b[0m\u001b[0;34m]\u001b[0m\u001b[0;34m,\u001b[0m \u001b[0mz\u001b[0m\u001b[0;34m,\u001b[0m \u001b[0mg_eq\u001b[0m \u001b[0;34m)\u001b[0m\u001b[0;34m\u001b[0m\u001b[0;34m\u001b[0m\u001b[0m\n\u001b[1;32m      3\u001b[0m \u001b[0;34m\u001b[0m\u001b[0m\n\u001b[0;32m----> 4\u001b[0;31m \u001b[0mg\u001b[0m\u001b[0;34m.\u001b[0m\u001b[0mbodin_crit\u001b[0m\u001b[0;34m(\u001b[0m\u001b[0mInteger\u001b[0m\u001b[0;34m(\u001b[0m\u001b[0;36m0\u001b[0m\u001b[0;34m)\u001b[0m\u001b[0;34m)\u001b[0m\u001b[0;34m\u001b[0m\u001b[0;34m\u001b[0m\u001b[0m\n\u001b[0m",
      "\u001b[0;32m<ipython-input-27-d46e530164b5>\u001b[0m in \u001b[0;36mbodin_crit\u001b[0;34m(self, point)\u001b[0m\n\u001b[1;32m     82\u001b[0m         \u001b[0msingular\u001b[0m\u001b[0;34m.\u001b[0m\u001b[0meval\u001b[0m\u001b[0;34m(\u001b[0m\u001b[0;34mf'ring r=0,{varstring},dp'\u001b[0m\u001b[0;34m)\u001b[0m\u001b[0;34m\u001b[0m\u001b[0;34m\u001b[0m\u001b[0m\n\u001b[1;32m     83\u001b[0m         \u001b[0msingular\u001b[0m\u001b[0;34m.\u001b[0m\u001b[0meval\u001b[0m\u001b[0;34m(\u001b[0m\u001b[0;34mf'poly f={str(poly)}'\u001b[0m\u001b[0;34m)\u001b[0m\u001b[0;34m\u001b[0m\u001b[0;34m\u001b[0m\u001b[0m\n\u001b[0;32m---> 84\u001b[0;31m         \u001b[0mresponse\u001b[0m \u001b[0;34m=\u001b[0m \u001b[0msingular\u001b[0m\u001b[0;34m.\u001b[0m\u001b[0meval\u001b[0m\u001b[0;34m(\u001b[0m\u001b[0;34m'crit(f)'\u001b[0m\u001b[0;34m)\u001b[0m\u001b[0;34m\u001b[0m\u001b[0;34m\u001b[0m\u001b[0m\n\u001b[0m\u001b[1;32m     85\u001b[0m \u001b[0;34m\u001b[0m\u001b[0m\n\u001b[1;32m     86\u001b[0m         \u001b[0;32mreturn\u001b[0m \u001b[0mresponse\u001b[0m\u001b[0;34m\u001b[0m\u001b[0;34m\u001b[0m\u001b[0m\n",
      "\u001b[0;32m/usr/lib/python3/dist-packages/sage/interfaces/singular.py\u001b[0m in \u001b[0;36meval\u001b[0;34m(self, x, allow_semicolon, strip, **kwds)\u001b[0m\n\u001b[1;32m    657\u001b[0m         \u001b[0;31m# Singular actually does use that string\u001b[0m\u001b[0;34m\u001b[0m\u001b[0;34m\u001b[0m\u001b[0;34m\u001b[0m\u001b[0m\n\u001b[1;32m    658\u001b[0m         \u001b[0;32mif\u001b[0m \u001b[0ms\u001b[0m\u001b[0;34m.\u001b[0m\u001b[0mfind\u001b[0m\u001b[0;34m(\u001b[0m\u001b[0;34m\"error occurred\"\u001b[0m\u001b[0;34m)\u001b[0m \u001b[0;34m!=\u001b[0m \u001b[0;34m-\u001b[0m\u001b[0;36m1\u001b[0m \u001b[0;32mor\u001b[0m \u001b[0ms\u001b[0m\u001b[0;34m.\u001b[0m\u001b[0mfind\u001b[0m\u001b[0;34m(\u001b[0m\u001b[0;34m\"Segment fault\"\u001b[0m\u001b[0;34m)\u001b[0m \u001b[0;34m!=\u001b[0m \u001b[0;34m-\u001b[0m\u001b[0;36m1\u001b[0m\u001b[0;34m:\u001b[0m\u001b[0;34m\u001b[0m\u001b[0;34m\u001b[0m\u001b[0m\n\u001b[0;32m--> 659\u001b[0;31m             \u001b[0;32mraise\u001b[0m \u001b[0mSingularError\u001b[0m\u001b[0;34m(\u001b[0m\u001b[0;34m'Singular error:\\n%s'\u001b[0m\u001b[0;34m%\u001b[0m\u001b[0ms\u001b[0m\u001b[0;34m)\u001b[0m\u001b[0;34m\u001b[0m\u001b[0;34m\u001b[0m\u001b[0m\n\u001b[0m\u001b[1;32m    660\u001b[0m \u001b[0;34m\u001b[0m\u001b[0m\n\u001b[1;32m    661\u001b[0m         \u001b[0;32mif\u001b[0m \u001b[0mget_verbose\u001b[0m\u001b[0;34m(\u001b[0m\u001b[0;34m)\u001b[0m \u001b[0;34m>\u001b[0m \u001b[0;36m0\u001b[0m\u001b[0;34m:\u001b[0m\u001b[0;34m\u001b[0m\u001b[0;34m\u001b[0m\u001b[0m\n",
      "\u001b[0;31mSingularError\u001b[0m: Singular error:\nPolynomial : z\nAffine critical values are the roots of 1\nAffine Milnor number : 0\n   ? incompatible type in list assignment\n   ? error occurred in or before critic01.lib::iscoordgeneric line 312: `    P = L[2..n];   // Affine polar curve`\n   ? leaving critic01.lib::iscoordgeneric\n   skipping text from `;` error at token `)`\n   ? leaving critic01.lib::critinf\n   ? leaving critic01.lib::crit"
     ]
    }
   ],
   "source": [
    "g_eq = x*(x*y -1)\n",
    "g = LefschetzFibration([x,y, z], z, g_eq )\n",
    "\n",
    "g.bodin_crit(0)"
   ]
  },
  {
   "cell_type": "code",
   "execution_count": 85,
   "metadata": {},
   "outputs": [],
   "source": [
    "y, z, t, x0 = var('y, z, t, x0', domain=CC)\n",
    "f_sage = 1/3*(y - 2*z)*y*z + 1/3*y + 1/3*z + 1\n",
    "\n",
    "r = singular.ring(0, '(y, z, t, x0)', 'dp')\n",
    "f = singular.poly('1/3*(y - 2*z)*y*z + 1/3*y + 1/3*z + 1')\n",
    "fH = singular.poly('1/3*(y-2*z)*y*z + 1/3*y*x0^2 + 1/3*z*x0^2 + x0^3 - t*x0^3')\n",
    "x0 = singular.poly('x0')\n",
    "\n",
    "Xf = singular.ideal(fH)\n",
    "Xinf = singular.ideal(fH, x0)\n"
   ]
  },
  {
   "cell_type": "code",
   "execution_count": 94,
   "metadata": {},
   "outputs": [],
   "source": [
    "\n",
    "fH = singular.poly('1/3*(y-2*z)*y*z + 1/3*y*x0^2 + 1/3*z*x0^2 + x0^3 - t*x0^3')\n",
    "x0 = singular.poly('x0')\n",
    "\n",
    "Xf = singular.ideal(fH)\n",
    "Xinf = singular.ideal(fH, x0)"
   ]
  },
  {
   "cell_type": "code",
   "execution_count": 2,
   "metadata": {},
   "outputs": [
    {
     "data": {
      "text/plain": [
       "'// ** loaded critic01.lib (0.01,2002/02/11\")'"
      ]
     },
     "execution_count": 2,
     "metadata": {},
     "output_type": "execute_result"
    }
   ],
   "source": [
    "from sage.libs.singular.function import singular_function, lib as singular_lib\n",
    "singular.eval('LIB \"critic01.lib\"')"
   ]
  },
  {
   "cell_type": "code",
   "execution_count": 3,
   "metadata": {},
   "outputs": [
    {
     "data": {
      "text/plain": [
       "''"
      ]
     },
     "execution_count": 3,
     "metadata": {},
     "output_type": "execute_result"
    }
   ],
   "source": [
    "singular.eval('ring R=0,(y, z, t),dp')\n",
    "singular.eval('poly f=1/3*(y - 2*z)*y*z + 1/3*y + 1/3*z + 1')\n",
    "# f = singular.poly('1/3*(y - 2*z)*y*z + 1/3*y + 1/3*z + 1')\n"
   ]
  },
  {
   "cell_type": "code",
   "execution_count": 6,
   "metadata": {},
   "outputs": [],
   "source": [
    "a = singular.eval('crit(f)')\n"
   ]
  },
  {
   "cell_type": "code",
   "execution_count": 10,
   "metadata": {},
   "outputs": [
    {
     "name": "stdout",
     "output_type": "stream",
     "text": [
      "Polynomial : 1/3y2z-2/3yz2+1/3y+1/3z+1\n",
      "Affine critical values are the roots of 243t4-972t3+1498t2-1052t+279\n",
      "Affine Milnor number : 4\n",
      "Details of affine critical values :\n",
      "  243t4-972t3+1498t2-1052t+279   4  \n",
      "Critical values at infinity are the roots of 1\n",
      "Milnor number at infinity : 0\n"
     ]
    }
   ],
   "source": [
    "for line in a.split('\\n'):\n",
    "    print(line)"
   ]
  },
  {
   "cell_type": "code",
   "execution_count": 91,
   "metadata": {},
   "outputs": [],
   "source": [
    "P= [f_sage.diff(var) for var in [y,z]]\n",
    "P_sing = "
   ]
  },
  {
   "cell_type": "code",
   "execution_count": 93,
   "metadata": {},
   "outputs": [
    {
     "ename": "SingularError",
     "evalue": "Singular error:\n   ? cannot open critic.lib\n   ? error occurred in or before STDIN line 446: `LIB \"critic.lib\";`",
     "output_type": "error",
     "traceback": [
      "\u001b[0;31m---------------------------------------------------------------------------\u001b[0m",
      "\u001b[0;31mSingularError\u001b[0m                             Traceback (most recent call last)",
      "\u001b[0;32m<ipython-input-93-b56f5ca39edb>\u001b[0m in \u001b[0;36m<module>\u001b[0;34m\u001b[0m\n\u001b[0;32m----> 1\u001b[0;31m \u001b[0m_\u001b[0m\u001b[0;34m=\u001b[0m\u001b[0msingular\u001b[0m\u001b[0;34m.\u001b[0m\u001b[0mlib\u001b[0m\u001b[0;34m(\u001b[0m\u001b[0;34m'critic.lib'\u001b[0m\u001b[0;34m)\u001b[0m\u001b[0;34m\u001b[0m\u001b[0;34m\u001b[0m\u001b[0m\n\u001b[0m",
      "\u001b[0;32m/usr/lib/python3/dist-packages/sage/interfaces/singular.py\u001b[0m in \u001b[0;36mlib\u001b[0;34m(self, lib, reload)\u001b[0m\n\u001b[1;32m    860\u001b[0m         \u001b[0;32mif\u001b[0m \u001b[0;32mnot\u001b[0m \u001b[0mreload\u001b[0m \u001b[0;32mand\u001b[0m \u001b[0mlib\u001b[0m \u001b[0;32min\u001b[0m \u001b[0mself\u001b[0m\u001b[0;34m.\u001b[0m\u001b[0m__libs\u001b[0m\u001b[0;34m:\u001b[0m\u001b[0;34m\u001b[0m\u001b[0;34m\u001b[0m\u001b[0m\n\u001b[1;32m    861\u001b[0m             \u001b[0;32mreturn\u001b[0m\u001b[0;34m\u001b[0m\u001b[0;34m\u001b[0m\u001b[0m\n\u001b[0;32m--> 862\u001b[0;31m         \u001b[0mself\u001b[0m\u001b[0;34m.\u001b[0m\u001b[0meval\u001b[0m\u001b[0;34m(\u001b[0m\u001b[0;34m'LIB \"%s\"'\u001b[0m\u001b[0;34m%\u001b[0m\u001b[0mlib\u001b[0m\u001b[0;34m)\u001b[0m\u001b[0;34m\u001b[0m\u001b[0;34m\u001b[0m\u001b[0m\n\u001b[0m\u001b[1;32m    863\u001b[0m         \u001b[0mself\u001b[0m\u001b[0;34m.\u001b[0m\u001b[0m__libs\u001b[0m\u001b[0;34m.\u001b[0m\u001b[0mappend\u001b[0m\u001b[0;34m(\u001b[0m\u001b[0mlib\u001b[0m\u001b[0;34m)\u001b[0m\u001b[0;34m\u001b[0m\u001b[0;34m\u001b[0m\u001b[0m\n\u001b[1;32m    864\u001b[0m \u001b[0;34m\u001b[0m\u001b[0m\n",
      "\u001b[0;32m/usr/lib/python3/dist-packages/sage/interfaces/singular.py\u001b[0m in \u001b[0;36meval\u001b[0;34m(self, x, allow_semicolon, strip, **kwds)\u001b[0m\n\u001b[1;32m    657\u001b[0m         \u001b[0;31m# Singular actually does use that string\u001b[0m\u001b[0;34m\u001b[0m\u001b[0;34m\u001b[0m\u001b[0;34m\u001b[0m\u001b[0m\n\u001b[1;32m    658\u001b[0m         \u001b[0;32mif\u001b[0m \u001b[0ms\u001b[0m\u001b[0;34m.\u001b[0m\u001b[0mfind\u001b[0m\u001b[0;34m(\u001b[0m\u001b[0;34m\"error occurred\"\u001b[0m\u001b[0;34m)\u001b[0m \u001b[0;34m!=\u001b[0m \u001b[0;34m-\u001b[0m\u001b[0;36m1\u001b[0m \u001b[0;32mor\u001b[0m \u001b[0ms\u001b[0m\u001b[0;34m.\u001b[0m\u001b[0mfind\u001b[0m\u001b[0;34m(\u001b[0m\u001b[0;34m\"Segment fault\"\u001b[0m\u001b[0;34m)\u001b[0m \u001b[0;34m!=\u001b[0m \u001b[0;34m-\u001b[0m\u001b[0;36m1\u001b[0m\u001b[0;34m:\u001b[0m\u001b[0;34m\u001b[0m\u001b[0;34m\u001b[0m\u001b[0m\n\u001b[0;32m--> 659\u001b[0;31m             \u001b[0;32mraise\u001b[0m \u001b[0mSingularError\u001b[0m\u001b[0;34m(\u001b[0m\u001b[0;34m'Singular error:\\n%s'\u001b[0m\u001b[0;34m%\u001b[0m\u001b[0ms\u001b[0m\u001b[0;34m)\u001b[0m\u001b[0;34m\u001b[0m\u001b[0;34m\u001b[0m\u001b[0m\n\u001b[0m\u001b[1;32m    660\u001b[0m \u001b[0;34m\u001b[0m\u001b[0m\n\u001b[1;32m    661\u001b[0m         \u001b[0;32mif\u001b[0m \u001b[0mget_verbose\u001b[0m\u001b[0;34m(\u001b[0m\u001b[0;34m)\u001b[0m \u001b[0;34m>\u001b[0m \u001b[0;36m0\u001b[0m\u001b[0;34m:\u001b[0m\u001b[0;34m\u001b[0m\u001b[0;34m\u001b[0m\u001b[0m\n",
      "\u001b[0;31mSingularError\u001b[0m: Singular error:\n   ? cannot open critic.lib\n   ? error occurred in or before STDIN line 446: `LIB \"critic.lib\";`"
     ]
    }
   ],
   "source": [
    "_=singular.lib('critic.lib')"
   ]
  }
 ],
 "metadata": {
  "kernelspec": {
   "display_name": "SageMath 9.0",
   "language": "sage",
   "name": "sagemath"
  },
  "language_info": {
   "codemirror_mode": {
    "name": "ipython",
    "version": 3
   },
   "file_extension": ".py",
   "mimetype": "text/x-python",
   "name": "python",
   "nbconvert_exporter": "python",
   "pygments_lexer": "ipython3",
   "version": "3.8.10"
  }
 },
 "nbformat": 4,
 "nbformat_minor": 2
}
