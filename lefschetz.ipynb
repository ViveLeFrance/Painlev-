{
 "cells": [
  {
   "cell_type": "code",
   "execution_count": 87,
   "metadata": {
    "vscode": {
     "languageId": "python"
    }
   },
   "outputs": [],
   "source": [
    "from sage.all import *"
   ]
  },
  {
   "cell_type": "code",
   "execution_count": null,
   "metadata": {
    "vscode": {
     "languageId": "python"
    }
   },
   "outputs": [],
   "source": []
  },
  {
   "cell_type": "code",
   "execution_count": 160,
   "metadata": {
    "vscode": {
     "languageId": "python"
    }
   },
   "outputs": [
    {
     "data": {
      "text/plain": [
       "5"
      ]
     },
     "execution_count": 160,
     "metadata": {},
     "output_type": "execute_result"
    }
   ],
   "source": [
    "# Declare variables to take values in complex numbers\n",
    "x,y,z,a = var('x, y, z, a', domain = CC)\n",
    "\n",
    "# Also want one real time parameter\n",
    "t = var('t', domain = RR)\n",
    "\n",
    "# Equation of affine surface\n",
    "G = x*y*z + x + z + 1\n",
    "\n",
    "# Define Lefschetz fibration from Casals-Murphy p.40\n",
    "f = -3*x - 2*z + y\n",
    "\n",
    "# Find critical points of L.F.\n",
    "sols = solve([G ==0, G.diff(x) == a*f.diff(x), G.diff(y) == a*f.diff(y), G.diff(z) == a*f.diff(z)], [x,y,z,a])\n",
    "\n",
    "# Return number of critical points\n",
    "len(sols)"
   ]
  },
  {
   "cell_type": "code",
   "execution_count": 161,
   "metadata": {
    "vscode": {
     "languageId": "python"
    }
   },
   "outputs": [
    {
     "data": {
      "text/plain": [
       "[[x == -1.210170340681363, y == 0.2369743074494043, z == 0.2946778212887148, a == -0.356610337972167], [x == (-0.4568151346149874 + 0.3861842963170672*I), y == (2.19182013437076 - 0.1000639011015501*I), z == (-0.4575762604493643 + 0.5896692639631476*I), a == (-0.01869324874961215 - 0.4460786103486786*I)], [x == (-0.4568151346149872 - 0.3861842963170672*I), y == (2.191820134370761 + 0.1000639011015502*I), z == (-0.4575762604493643 - 0.5896692639631476*I), a == (-0.01869324874961228 + 0.4460786103486787*I)], [x == 0.8050810337275515, y == -3.359709153122327, z == 1.058798999165972, a == 0.8524190741385311], [x == 0.3187196003680821, y == -0.2609053497942387, z == -1.438324282389449, a == -0.4584221748400853]]"
      ]
     },
     "execution_count": 161,
     "metadata": {},
     "output_type": "execute_result"
    }
   ],
   "source": [
    "sols"
   ]
  },
  {
   "cell_type": "code",
   "execution_count": 162,
   "metadata": {
    "vscode": {
     "languageId": "python"
    }
   },
   "outputs": [
    {
     "data": {
      "text/plain": [
       "[3.2781296869160643,\n",
       " 4.477418059114451 - 2.4379553179790467*I,\n",
       " 4.477418059114451 + 2.437955317979047*I,\n",
       " -7.892550252636926,\n",
       " 1.6595844138804132]"
      ]
     },
     "execution_count": 162,
     "metadata": {},
     "output_type": "execute_result"
    }
   ],
   "source": [
    "# Make a list of the critical points as complex numbers\n",
    "values = []\n",
    "for sol in sols:\n",
    "    values.append(f.subs(sol)) # Note: here we plug the 5 critical points into the Lefschetz function\n",
    "\n",
    "# Return the list of critical points\n",
    "values"
   ]
  },
  {
   "cell_type": "code",
   "execution_count": 163,
   "metadata": {
    "vscode": {
     "languageId": "python"
    }
   },
   "outputs": [
    {
     "data": {
      "image/png": "[encoded data removed]",
      "text/plain": [
       "Graphics object consisting of 1 graphics primitive"
      ]
     },
     "execution_count": 163,
     "metadata": {},
     "output_type": "execute_result"
    }
   ],
   "source": [
    "# Plot the critical points as complex numbers in the plane\n",
    "plot_points = []\n",
    "for value in values:\n",
    "    plot_points.append([value.real(), value.imag()])\n",
    "    \n",
    "# Return the list of critical points as a list of points in the plane\n",
    "plot_points\n",
    "\n",
    "# Plot the critical points\n",
    "scatter_plot(plot_points, marker = 's')"
   ]
  },
  {
   "cell_type": "code",
   "execution_count": 164,
   "metadata": {
    "vscode": {
     "languageId": "python"
    }
   },
   "outputs": [
    {
     "data": {
      "text/plain": [
       "(3*x + 2*z)*x*z + x + z + 1"
      ]
     },
     "execution_count": 164,
     "metadata": {},
     "output_type": "execute_result"
    }
   ],
   "source": [
    "# We see that 0 is a regular value of the fibration f. Solve for a regular fiber.\n",
    "fiber = G.subs(y == 3*x + 2*z).simplify()\n",
    "fiber"
   ]
  },
  {
   "cell_type": "code",
   "execution_count": 165,
   "metadata": {
    "vscode": {
     "languageId": "python"
    }
   },
   "outputs": [
    {
     "data": {
      "text/plain": [
       "6"
      ]
     },
     "execution_count": 165,
     "metadata": {},
     "output_type": "execute_result"
    }
   ],
   "source": [
    "# Define a branch cover on the regular fiber\n",
    "rho = 3*x + z\n",
    "fiber_sols = solve([fiber == 0, fiber.diff(x) == a*rho.diff(x), fiber.diff(z) == a*rho.diff(z)], [x,z,a])\n",
    "\n",
    "# Return the number of branch points in branch cover\n",
    "len(fiber_sols)"
   ]
  },
  {
   "cell_type": "code",
   "execution_count": 166,
   "metadata": {
    "vscode": {
     "languageId": "python"
    }
   },
   "outputs": [
    {
     "data": {
      "text/plain": [
       "[-1,\n",
       " 1.8474487771876147,\n",
       " -1.0193085497120713 - 1.7799091525906945*I,\n",
       " -1.0193085497120715 + 1.7799091525906947*I,\n",
       " 0.5955841427778825 - 2.536171792111155*I,\n",
       " 0.5955841427778789 + 2.536171792111159*I]"
      ]
     },
     "execution_count": 166,
     "metadata": {},
     "output_type": "execute_result"
    }
   ],
   "source": [
    "# Make a list of the branch points as complex numbers in the plane\n",
    "fiber_points = []\n",
    "for fiber_sol in fiber_sols:\n",
    "    fiber_points.append(rho.subs(fiber_sol))\n",
    "\n",
    "# Return the list of critical points\n",
    "fiber_points"
   ]
  },
  {
   "cell_type": "code",
   "execution_count": 167,
   "metadata": {
    "vscode": {
     "languageId": "python"
    }
   },
   "outputs": [
    {
     "data": {
      "image/png": "[encoded data removed]",
      "text/plain": [
       "Graphics object consisting of 1 graphics primitive"
      ]
     },
     "execution_count": 167,
     "metadata": {},
     "output_type": "execute_result"
    }
   ],
   "source": [
    "# Plot the branch points as complex numbers in the plane\n",
    "branch_points = []\n",
    "for fiber_point in fiber_points:\n",
    "    branch_points.append([fiber_point.real(), fiber_point.imag()])\n",
    "    \n",
    "# Return the list of critical points as a list of points in the plane\n",
    "branch_points\n",
    "\n",
    "# Plot the critical points\n",
    "scatter_plot(branch_points, marker = 's')"
   ]
  },
  {
   "cell_type": "code",
   "execution_count": 168,
   "metadata": {
    "vscode": {
     "languageId": "python"
    }
   },
   "outputs": [
    {
     "data": {
      "text/plain": [
       "(1.659584413880413*t + 3*x + 2*z)*x*z + x + z + 1"
      ]
     },
     "execution_count": 168,
     "metadata": {},
     "output_type": "execute_result"
    }
   ],
   "source": [
    "# Construct time-dependent fiber F_t as vanishing path approaches the first critical value s1\n",
    "tfiber = G.subs(y == 3*x +2*z + t*values[4]).simplify()\n",
    "tfiber"
   ]
  },
  {
   "cell_type": "code",
   "execution_count": 169,
   "metadata": {
    "vscode": {
     "languageId": "python"
    }
   },
   "outputs": [
    {
     "data": {
      "text/plain": [
       "6"
      ]
     },
     "execution_count": 169,
     "metadata": {},
     "output_type": "execute_result"
    }
   ],
   "source": [
    "# Define a branch cover for t = 0 which should be the same as before\n",
    "tfiber0 = tfiber.subs(t == 0).simplify()\n",
    "\n",
    "tfiber0_sols = solve([tfiber0 == 0, tfiber0.diff(x) == a*rho.diff(x), tfiber0.diff(z) == a*rho.diff(z)], [x,z,a])\n",
    "\n",
    "# Return the number of branch points in branch cover\n",
    "len(tfiber0_sols)"
   ]
  },
  {
   "cell_type": "code",
   "execution_count": 170,
   "metadata": {
    "vscode": {
     "languageId": "python"
    }
   },
   "outputs": [],
   "source": [
    "# Now we make a fiber at each time t = s as the parameter s approaches 1\n",
    "tfiber_sols = []\n",
    "for s in [0, 0.1, 0.2, 0.3, 0.4, 0.5, 0.6, 0.7, 0.8, 0.9, 1]:\n",
    "    tfiber_at_s = tfiber.subs(t == s).simplify()\n",
    "    tfiber_sols.append(solve([tfiber_at_s == 0, tfiber_at_s.diff(x) == a*rho.diff(x), tfiber_at_s.diff(z) == a*rho.diff(z)], [x,z,a]))"
   ]
  },
  {
   "cell_type": "code",
   "execution_count": 171,
   "metadata": {
    "vscode": {
     "languageId": "python"
    }
   },
   "outputs": [
    {
     "data": {
      "text/plain": [
       "x == 0"
      ]
     },
     "execution_count": 171,
     "metadata": {},
     "output_type": "execute_result"
    }
   ],
   "source": [
    "tfiber_sols[0][0][0]"
   ]
  },
  {
   "cell_type": "code",
   "execution_count": 172,
   "metadata": {
    "vscode": {
     "languageId": "python"
    }
   },
   "outputs": [
    {
     "data": {
      "text/plain": [
       "z == -1"
      ]
     },
     "execution_count": 172,
     "metadata": {},
     "output_type": "execute_result"
    }
   ],
   "source": [
    "tfiber_sols[0][0][1]"
   ]
  },
  {
   "cell_type": "code",
   "execution_count": 173,
   "metadata": {
    "vscode": {
     "languageId": "python"
    }
   },
   "outputs": [
    {
     "data": {
      "text/plain": [
       "[[x == 1.007194934765925, z == -1.35462463708005, a == -1.247007299270073], [x == (-0.6210780605496719 - 0.8405570746510841*I), z == (0.7316120568776138 + 0.7755920508673401*I), a == (0.7246968898988567 - 1.393847783928937*I)], [x == (-0.6210780605496719 + 0.8405570746510841*I), z == (0.7316120568776138 - 0.7755920508673401*I), a == (0.7246968898988567 + 1.393847783928937*I)], [x == (0.0572592700981213 - 0.4320752380644677*I), z == (0.3770099342193194 - 1.231037869248947*I), a == (-1.581983169864289 - 1.153688357373098*I)], [x == (0.0572592700981213 + 0.4320752380644677*I), z == (0.3770099342193254 + 1.231037869248947*I), a == (-1.581983169864287 + 1.153688357373108*I)], [x == 0.009803688845633441, z == -1.028577709386678, a == 0.9615798922800718]]"
      ]
     },
     "execution_count": 173,
     "metadata": {},
     "output_type": "execute_result"
    }
   ],
   "source": [
    "tfiber_sols[1]"
   ]
  },
  {
   "cell_type": "code",
   "execution_count": 174,
   "metadata": {
    "vscode": {
     "languageId": "python"
    }
   },
   "outputs": [
    {
     "data": {
      "text/plain": [
       "66"
      ]
     },
     "execution_count": 174,
     "metadata": {},
     "output_type": "execute_result"
    }
   ],
   "source": [
    "# Make a list (of lists) of the branch points at each time t = s as the parameter s approaches 1 as complex numbers in the plane\n",
    "tfiber_points = []\n",
    "for i in range(len(tfiber_sols)):\n",
    "    for j in range(len(tfiber_sols[i])):\n",
    "        tfiber_points.append(3*tfiber_sols[i][j][0].rhs() + tfiber_sols[i][j][1].rhs())\n",
    "\n",
    "# Return the list of critical points\n",
    "len(tfiber_points)"
   ]
  },
  {
   "cell_type": "code",
   "execution_count": 175,
   "metadata": {
    "vscode": {
     "languageId": "python"
    }
   },
   "outputs": [],
   "source": [
    "# Plot the branch points as complex numbers in the plane\n",
    "tbranch_points = []\n",
    "for i in range(len(tfiber_points)):\n",
    "    tbranch_points.append([tfiber_points[i].real(), tfiber_points[i].imag()])"
   ]
  },
  {
   "cell_type": "code",
   "execution_count": 176,
   "metadata": {
    "vscode": {
     "languageId": "python"
    }
   },
   "outputs": [
    {
     "data": {
      "text/plain": [
       "66"
      ]
     },
     "execution_count": 176,
     "metadata": {},
     "output_type": "execute_result"
    }
   ],
   "source": [
    "len(tbranch_points)"
   ]
  },
  {
   "cell_type": "code",
   "execution_count": 177,
   "metadata": {
    "vscode": {
     "languageId": "python"
    }
   },
   "outputs": [
    {
     "data": {
      "image/png": "[encoded data removed]",
      "text/plain": [
       "Graphics object consisting of 1 graphics primitive"
      ]
     },
     "execution_count": 177,
     "metadata": {},
     "output_type": "execute_result"
    }
   ],
   "source": [
    "# Plot the critical points\n",
    "scatter_plot(tbranch_points, marker = 's')"
   ]
  },
  {
   "cell_type": "code",
   "execution_count": null,
   "metadata": {
    "vscode": {
     "languageId": "python"
    }
   },
   "outputs": [],
   "source": []
  }
 ],
 "metadata": {
  "kernelspec": {
   "display_name": "SageMath 9.0",
   "language": "sage",
   "name": "sagemath"
  },
  "language_info": {
   "codemirror_mode": {
    "name": "ipython",
    "version": 3
   },
   "file_extension": ".py",
   "mimetype": "text/x-python",
   "name": "sage",
   "nbconvert_exporter": "python",
   "pygments_lexer": "ipython3",
   "version": "3.8.10"
  }
 },
 "nbformat": 4,
 "nbformat_minor": 2
}
