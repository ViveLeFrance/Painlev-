{
 "cells": [
  {
   "cell_type": "markdown",
   "metadata": {},
   "source": [
    "# Computing LCH with Sympy"
   ]
  },
  {
   "cell_type": "markdown",
   "metadata": {},
   "source": [
    "To use this notebook, execute the next block defining the differential operator function. Next, adapt the data in the following example blocks to your cases of interest."
   ]
  },
  {
   "cell_type": "code",
   "execution_count": 14,
   "metadata": {},
   "outputs": [],
   "source": [
    "import sympy as sp\n",
    "from sage.all import *\n",
    "\n",
    "def alg_mul(*args):\n",
    "    result = args[0]\n",
    "    for arg in args[1:]:\n",
    "        result = result._mul_(arg)\n",
    "    return result\n",
    "\n",
    "def differential_operator(expr, generator_images, generator_degrees, algebra=None):\n",
    "    if expr == 0:\n",
    "        return 0\n",
    "    if algebra:\n",
    "        if len(expr.terms())>1:\n",
    "            sum  = 0\n",
    "            for term in expr.terms():\n",
    "                sum += differential_operator(term, generator_images, generator_degrees, algebra=algebra)\n",
    "            return sum\n",
    "        elif len(str(expr.support()[0]).split('*'))>1:\n",
    " \n",
    "            path = str(expr.support()[0]).split('*')\n",
    " \n",
    "            coeff = expr.coefficients()[0]\n",
    "            algebra_path = []\n",
    "            for vertex in path:\n",
    "                for gen in algebra.gens():\n",
    "                    if vertex in str(gen):\n",
    "                        algebra_path.append(gen)\n",
    "            # Apply the derivation relation: d(a * b) = d(a) * b + a * d(b)\n",
    "   \n",
    "                        \n",
    "            first_term = coeff*differential_operator(algebra_path[0], generator_images, generator_degrees, algebra=algebra) * alg_mul(*algebra_path[1:])\n",
    "            degree_of_first = generator_degrees.get(algebra_path[0], 0)\n",
    "\n",
    "            second_term = (-1)**degree_of_first *coeff* algebra_path[0] * differential_operator(alg_mul(*algebra_path[1:]), generator_images, generator_degrees, algebra=algebra)\n",
    "            return first_term + second_term\n",
    "        else:\n",
    "            coeff = expr.coefficients()[0]\n",
    "            if 1/coeff * expr in generator_images:\n",
    "                return coeff * generator_images[1/coeff * expr]\n",
    "            else:\n",
    "                return 0\n",
    "    else:\n",
    "        expr = expr.expand()\n",
    "        if expr in generator_images:\n",
    "            return generator_images[expr]\n",
    "        elif expr.is_Pow:\n",
    "            base, exp = expr.as_base_exp()\n",
    "            if base in generator_degrees:\n",
    "                # Apply the chain rule: d(a^n) = n * a^(n-1) * d(a)\n",
    "                return exp * base**(exp - 1) * differential_operator(base, generator_images, generator_degrees)\n",
    "            else:\n",
    "                return 0\n",
    "        elif expr.is_Add:\n",
    "            return sp.Add(*[differential_operator(arg, generator_images, generator_degrees) for arg in expr.args])\n",
    "        elif expr.is_Mul:\n",
    "            # Apply the derivation relation: d(a * b) = d(a) * b + a * d(b)\n",
    "            coeff, rest = expr.as_coeff_mul()\n",
    "            first_term = differential_operator(rest[0], generator_images, generator_degrees) * sp.Mul(*rest[1:]) * coeff\n",
    "            degree_of_first = generator_degrees.get(rest[0], 0)\n",
    "            second_term = (-1)**degree_of_first * rest[0] * differential_operator(sp.Mul(*rest[1:]), generator_images, generator_degrees) * coeff\n",
    "            return first_term + second_term\n",
    "        else:\n",
    "            return 0\n",
    "\n"
   ]
  },
  {
   "cell_type": "code",
   "execution_count": 11,
   "metadata": {},
   "outputs": [],
   "source": [
    "# This is for P5\n",
    "\n",
    "P = DiGraph({Integer(0): {Integer(0): 'a', Integer(2): 'y'}, Integer(1): {Integer(1): 'b', Integer(2): 'w'}, Integer(2): {Integer(2): 'c', Integer(0): 'x', Integer(1): 'z'}})\n",
    "# Define your quiver (documentation at https://doc.sagemath.org/html/en/reference/graphs/sage/graphs/digraph.html)\n",
    "\n",
    "\n",
    "P_group = P.path_semigroup()\n",
    "A = P_group.algebra(CC)\n",
    "\n",
    "e_0, e_1, e_2, a,b,c,w,x,y,z = A.gens()\n",
    "# Give a name to the generators of the algebra. Preferably, use the same names as the edges of the quiver.\n",
    "# Run A.gens() in a cell to see the order and names of the edges corresponding to the generators.\n",
    "# Todo - make this automatic\n",
    "\n",
    "\n",
    "# Define here how the differential should act on generators.\n",
    "d_vals = {\n",
    "    e_0: 0,\n",
    "    e_1: 0,\n",
    "    e_2: 0, \n",
    "    a: -y*x,\n",
    "    b: -w*z,\n",
    "    c: -x*y*z*w,\n",
    "    x: 0,\n",
    "    y: 0,\n",
    "    z: 0,\n",
    "    w: 0\n",
    "}\n",
    "\n",
    "\n",
    "# Define here the degrees of the generators.\n",
    "degrees = {\n",
    "    e_0: 0,\n",
    "    e_1: 0,\n",
    "    e_2: 0,\n",
    "    a: 1,\n",
    "    b: 1,\n",
    "    c: 1,\n",
    "    x: 0,\n",
    "    y: 0,\n",
    "    z: 0,\n",
    "    w: 0\n",
    "}\n",
    "\n",
    "def d(expr):\n",
    "    return differential_operator(expr, d_vals, degrees, algebra = A)\n",
    "\n",
    "# After running this cell, you can use the function d to compute the differential of any element of the algebra.\n",
    "# For example, to compute the differential of a*b, run d(a*b)."
   ]
  },
  {
   "cell_type": "code",
   "execution_count": 18,
   "metadata": {},
   "outputs": [
    {
     "name": "stdout",
     "output_type": "stream",
     "text": [
      "1.00000000000000*x*a\n",
      "-1.00000000000000*x*y*x\n",
      "-1.00000000000000*x*y*x\n"
     ]
    }
   ],
   "source": [
    "expr = x*a\n",
    "print(expr)\n",
    "print(d(x*a))\n",
    "print(d(expr))"
   ]
  },
  {
   "cell_type": "code",
   "execution_count": 8,
   "metadata": {},
   "outputs": [],
   "source": [
    "# For P1 according to CM\n",
    "\n",
    "P = DiGraph({Integer(0): {Integer(0): ['a','b','x','y','z']}})\n",
    "\n",
    "P_group = P.path_semigroup()\n",
    "A = P_group.algebra(CC)\n",
    "\n",
    "e_0, a,b,x,y,z = A.gens()\n",
    "\n",
    "# a,b = sp.symbols('a, b', commutative=False) # degree 1\n",
    "# x,y,z = sp.symbols('x, y, z', commutative=False) # degree 0\n",
    "\n",
    "d_vals = {\n",
    "    e_0: 0,\n",
    "    a: 1+x+z+x*y*z,\n",
    "    b: 1+x+z+z*y*x,\n",
    "    x: 0,\n",
    "    y: 0,\n",
    "    z: 0\n",
    "    }\n",
    "\n",
    "degrees = {\n",
    "    e_0: 0,\n",
    "    a: 1,\n",
    "    b: 1,\n",
    "    x: 0,\n",
    "    y: 0,\n",
    "    z: 0\n",
    "}\n",
    "\n",
    "def d(expr):\n",
    "    return differential_operator(expr, d_vals, degrees, algebra=A)\n",
    "\n",
    "\n",
    "\n"
   ]
  },
  {
   "cell_type": "code",
   "execution_count": 20,
   "metadata": {},
   "outputs": [
    {
     "name": "stdout",
     "output_type": "stream",
     "text": [
      "1.00000000000000*x*y*x*a*a\n",
      "-1.00000000000000*x*y*x*a*z - 1.00000000000000*x*y*x*a*x + 1.00000000000000*x*y*x*z*a + 1.00000000000000*x*y*x*x*a - 1.00000000000000*x*y*x*a*x*y*z + 1.00000000000000*x*y*x*x*y*z*a\n"
     ]
    }
   ],
   "source": [
    "expr = x+y+ a**2\n",
    "expr = x*y*x*a*a\n",
    "print(expr)\n",
    "print(d(expr))\n"
   ]
  },
  {
   "cell_type": "code",
   "execution_count": 9,
   "metadata": {},
   "outputs": [
    {
     "name": "stdout",
     "output_type": "stream",
     "text": [
      "-1.00000000000000*y*z + 1.00000000000000*z*y\n",
      "-1.00000000000000*y*z + 1.00000000000000*z*y\n"
     ]
    }
   ],
   "source": [
    "expr = (1+z*y)*a-b*(1+y*z)\n",
    "print(d((1+z*y)*a-b*(1+y*z)))\n",
    "\n",
    "print(d(expr))\n"
   ]
  }
 ],
 "metadata": {
  "kernelspec": {
   "display_name": "SageMath 10.2",
   "language": "sage",
   "name": "sagemath"
  },
  "language_info": {
   "codemirror_mode": {
    "name": "ipython",
    "version": 3
   },
   "file_extension": ".py",
   "mimetype": "text/x-python",
   "name": "python",
   "nbconvert_exporter": "python",
   "pygments_lexer": "ipython3",
   "version": "3.11.1"
  }
 },
 "nbformat": 4,
 "nbformat_minor": 2
}
