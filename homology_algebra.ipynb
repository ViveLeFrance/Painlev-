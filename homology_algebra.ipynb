{
 "cells": [
  {
   "cell_type": "markdown",
   "metadata": {},
   "source": [
    "# Computing LCH with Sage"
   ]
  },
  {
   "cell_type": "markdown",
   "metadata": {},
   "source": [
    "To use this notebook, execute the next block defining the differential operator function. Next, adapt the data in the following example blocks to your cases of interest."
   ]
  },
  {
   "cell_type": "code",
   "execution_count": 7,
   "metadata": {},
   "outputs": [],
   "source": [
    "import sympy as sp\n",
    "from sage.all import *\n",
    "\n",
    "def alg_mul(*args):\n",
    "    result = args[0]\n",
    "    for arg in args[1:]:\n",
    "        result = result._mul_(arg)\n",
    "    return result\n",
    "\n",
    "def differential_operator(expr, generator_images, generator_degrees, algebra=None):\n",
    "    if expr == 0:\n",
    "        return 0\n",
    "    if algebra:\n",
    "        if len(expr.terms())>1:\n",
    "            sum  = 0\n",
    "            for term in expr.terms():\n",
    "                sum += differential_operator(term, generator_images, generator_degrees, algebra=algebra)\n",
    "            return sum\n",
    "        elif len(str(expr.support()[0]).split('*'))>1:\n",
    " \n",
    "            path = str(expr.support()[0]).split('*')\n",
    " \n",
    "            coeff = expr.coefficients()[0]\n",
    "            algebra_path = []\n",
    "            for vertex in path:\n",
    "                for gen in algebra.gens():\n",
    "                    if vertex in str(gen):\n",
    "                        algebra_path.append(gen)\n",
    "            # Apply the derivation relation: d(a * b) = d(a) * b + a * d(b)\n",
    "   \n",
    "                        \n",
    "            first_term = coeff*differential_operator(algebra_path[0], generator_images, generator_degrees, algebra=algebra) * alg_mul(*algebra_path[1:])\n",
    "            degree_of_first = generator_degrees.get(algebra_path[0], 0)\n",
    "\n",
    "            second_term = (-1)**degree_of_first *coeff* algebra_path[0] * differential_operator(alg_mul(*algebra_path[1:]), generator_images, generator_degrees, algebra=algebra)\n",
    "            return first_term + second_term\n",
    "        else:\n",
    "            coeff = expr.coefficients()[0]\n",
    "            if 1/coeff * expr in generator_images:\n",
    "                return coeff * generator_images[1/coeff * expr]\n",
    "            else:\n",
    "                return 0\n",
    "    else:\n",
    "        expr = expr.expand()\n",
    "        if expr in generator_images:\n",
    "            return generator_images[expr]\n",
    "        elif expr.is_Pow:\n",
    "            base, exp = expr.as_base_exp()\n",
    "            if base in generator_degrees:\n",
    "                # Apply the chain rule: d(a^n) = n * a^(n-1) * d(a)\n",
    "                return exp * base**(exp - 1) * differential_operator(base, generator_images, generator_degrees)\n",
    "            else:\n",
    "                return 0\n",
    "        elif expr.is_Add:\n",
    "            return sp.Add(*[differential_operator(arg, generator_images, generator_degrees) for arg in expr.args])\n",
    "        elif expr.is_Mul:\n",
    "            # Apply the derivation relation: d(a * b) = d(a) * b + a * d(b)\n",
    "            coeff, rest = expr.as_coeff_mul()\n",
    "            first_term = differential_operator(rest[0], generator_images, generator_degrees) * sp.Mul(*rest[1:]) * coeff\n",
    "            degree_of_first = generator_degrees.get(rest[0], 0)\n",
    "            second_term = (-1)**degree_of_first * rest[0] * differential_operator(sp.Mul(*rest[1:]), generator_images, generator_degrees) * coeff\n",
    "            return first_term + second_term\n",
    "        else:\n",
    "            return 0\n",
    "\n"
   ]
  },
  {
   "cell_type": "code",
   "execution_count": 2,
   "metadata": {},
   "outputs": [],
   "source": [
    "# This is for P5\n",
    "\n",
    "P = DiGraph({Integer(0): {Integer(0): 'a', Integer(2): 'y'}, Integer(1): {Integer(1): 'b', Integer(2): 'w'}, Integer(2): {Integer(2): 'c', Integer(0): 'x', Integer(1): 'z'}})\n",
    "# Define your quiver (documentation at https://doc.sagemath.org/html/en/reference/graphs/sage/graphs/digraph.html)\n",
    "\n",
    "\n",
    "P_group = P.path_semigroup()\n",
    "A = P_group.algebra(CC)\n",
    "\n",
    "e_0, e_1, e_2, a,b,c,w,x,y,z = A.gens()\n",
    "# Give a name to the generators of the algebra. Preferably, use the same names as the edges of the quiver.\n",
    "# Run A.gens() in a cell to see the order and names of the edges corresponding to the generators.\n",
    "# Todo: make this automatic\n",
    "\n",
    "\n",
    "# Define here how the differential should act on generators.\n",
    "d_vals = {\n",
    "    e_0: 0,\n",
    "    e_1: 0,\n",
    "    e_2: 0, \n",
    "    a: -x*y,\n",
    "    b: -z*w,\n",
    "    c: -w*z*x*y - w*z - y*x,\n",
    "    x: 0,\n",
    "    y: 0,\n",
    "    z: 0,\n",
    "    w: 0\n",
    "}\n",
    "\n",
    "\n",
    "# Define here the degrees of the generators.\n",
    "degrees = {\n",
    "    e_0: 0,\n",
    "    e_1: 0,\n",
    "    e_2: 0,\n",
    "    a: 1,\n",
    "    b: 1,\n",
    "    c: 1,\n",
    "    x: 0,\n",
    "    y: 0,\n",
    "    z: 0,\n",
    "    w: 0\n",
    "}\n",
    "\n",
    "def d(expr):\n",
    "    return differential_operator(expr, d_vals, degrees, algebra = A)\n",
    "\n",
    "# After running this cell, you can use the function d to compute the differential of any element of the algebra.\n",
    "# For example, to compute the differential of a*b, run d(a*b)."
   ]
  },
  {
   "cell_type": "code",
   "execution_count": 25,
   "metadata": {},
   "outputs": [
    {
     "data": {
      "text/plain": [
       "y*x + w*z"
      ]
     },
     "execution_count": 25,
     "metadata": {},
     "output_type": "execute_result"
    }
   ],
   "source": [
    "d(x*y*z*a*b*a*b*q*s*p*)"
   ]
  },
  {
   "cell_type": "code",
   "execution_count": 11,
   "metadata": {},
   "outputs": [
    {
     "name": "stdout",
     "output_type": "stream",
     "text": [
      "z*w*x*y + x*y*z*w\n",
      "y*x*y + w*x*y + x*y*x + x*y*z\n",
      "y*z*w + w*z*w + z*w*x + z*w*z\n",
      "x*y*x*y*x*y*x*y*x*y*x*y*x*y*x*y*x*y*x*y\n"
     ]
    }
   ],
   "source": [
    "X = x*y\n",
    "Y = z*w\n",
    "Z = x+y+z+w\n",
    "\n",
    "print(X*Y - Y*X)\n",
    "print(X*Z-Z*X)\n",
    "print(Y*Z-Z*Y)\n",
    "\n",
    "print(X**10)"
   ]
  },
  {
   "cell_type": "code",
   "execution_count": 18,
   "metadata": {},
   "outputs": [
    {
     "name": "stdout",
     "output_type": "stream",
     "text": [
      "0\n"
     ]
    }
   ],
   "source": [
    "print(d(a*a))"
   ]
  },
  {
   "cell_type": "code",
   "execution_count": 43,
   "metadata": {},
   "outputs": [
    {
     "name": "stdout",
     "output_type": "stream",
     "text": [
      "0\n"
     ]
    }
   ],
   "source": [
    "expr = d(x*a)\n",
    "\n",
    "print(expr)\n"
   ]
  },
  {
   "cell_type": "code",
   "execution_count": 4,
   "metadata": {},
   "outputs": [],
   "source": [
    "# For P1 according to CM\n",
    "\n",
    "P = DiGraph({Integer(0): {Integer(0): ['a','b','x','y','z']}})\n",
    "\n",
    "P_group = P.path_semigroup()\n",
    "A = P_group.algebra(CC)\n",
    "\n",
    "e_0, a,b,x,y,z = A.gens()\n",
    "\n",
    "# a,b = sp.symbols('a, b', commutative=False) # degree 1\n",
    "# x,y,z = sp.symbols('x, y, z', commutative=False) # degree 0\n",
    "\n",
    "d_vals = {\n",
    "    e_0: 0,\n",
    "    a: 1+x+z+x*y*z,\n",
    "    b: 1-x-z-z*y*x,\n",
    "    x: 0,\n",
    "    y: 0,\n",
    "    z: 0\n",
    "    }\n",
    "\n",
    "degrees = {\n",
    "    e_0: 0,\n",
    "    a: 1,\n",
    "    b: 1,\n",
    "    x: 0,\n",
    "    y: 0,\n",
    "    z: 0\n",
    "}\n",
    "\n",
    "def d(expr):\n",
    "    return differential_operator(expr, d_vals, degrees, algebra=A)\n",
    "\n",
    "\n",
    "\n"
   ]
  },
  {
   "cell_type": "code",
   "execution_count": 5,
   "metadata": {},
   "outputs": [
    {
     "name": "stdout",
     "output_type": "stream",
     "text": [
      "2.00000000000000*z + 2.00000000000000*x - 1.00000000000000*x*y + 1.00000000000000*y*x + 2.00000000000000*x*y*z + 2.00000000000000*z*y*x + 2.00000000000000*x*y*x + 2.00000000000000*x*y*z*y*x\n",
      "2.00000000000000*z*z + 1.00000000000000*x*z + 1.00000000000000*z*x + 1.00000000000000*z*x*y*z + 1.00000000000000*z*y*x*z\n",
      "2.00000000000000*z + 2.00000000000000*x - 1.00000000000000*y*z + 1.00000000000000*z*y + 2.00000000000000*z*y*z + 2.00000000000000*x*y*z + 2.00000000000000*z*y*x + 2.00000000000000*z*y*x*y*z\n"
     ]
    }
   ],
   "source": [
    "x_y = a*(1+y*x)- (1+x*y)*b\n",
    "x_z = z*a-b*z\n",
    "y_z = (1+z*y)*a - b*(1+y*z)\n",
    "\n",
    "print(d(x_y))\n",
    "print(d(x_z))\n",
    "print(d(y_z))\n",
    "\n"
   ]
  },
  {
   "cell_type": "markdown",
   "metadata": {},
   "source": [
    "## P2"
   ]
  },
  {
   "cell_type": "code",
   "execution_count": 2,
   "metadata": {},
   "outputs": [],
   "source": [
    "# P = DiGraph({Integer(0): {Integer(0): ['a','b','x','y','z'], Integer(1): ['r','s']}, Integer(1): {Integer(0): ['p','q'], Integer(1): ['c']}})\n",
    "P = DiGraph({Integer(0): {Integer(0): ['a','b','x','y','z'], Integer(1): ['p','q']}, Integer(1): {Integer(0): ['r','s'], Integer(1): ['c']}})\n",
    "Q = Quiver(P)\n",
    "# Define your quiver (documentation at https://doc.sagemath.org/html/en/reference/graphs/sage/graphs/digraph.html)\n",
    "\n",
    "\n",
    "P_group = P.path_semigroup()\n",
    "A = P_group.algebra(CC)\n",
    "\n",
    "e_0, e_1, a,b,c,p,q,r,s,x,y,z = A.gens()\n",
    "# Give a name to the generators of the algebra. Preferably, use the same names as the edges of the quiver.\n",
    "# Run A.gens() in a cell to see the order and names of the edges corresponding to the generators.\n",
    "# Todo: make this automatic\n",
    "\n",
    "\n",
    "# Define here how the differential should act on generators.\n",
    "d_vals = {\n",
    "    e_0: 0,\n",
    "    e_1: 0,\n",
    "    a: -e_0 + x + z + x*y*z+s*p*x,\n",
    "    b: e_0 +x + z+ z*y*x + r*q*x,\n",
    "    c: 0,\n",
    "    p: 0,\n",
    "    q: -p-p*x*y,\n",
    "    r: 0,\n",
    "    s: r+x*y*r,\n",
    "    x: 0,\n",
    "    y: 0,\n",
    "    z: 0\n",
    "}\n",
    "\n",
    "\n",
    "# Define here the degrees of the generators.\n",
    "degrees = {\n",
    "    e_0: 0,\n",
    "    e_1: 0,\n",
    "    a: 1,\n",
    "    b: 1,\n",
    "    c: 1,\n",
    "    p: 0,\n",
    "    q: 1,\n",
    "    r: -1,\n",
    "    s: 0,\n",
    "    x: 0,\n",
    "    y: 0,\n",
    "    z: 0\n",
    "}\n",
    "\n",
    "def d(expr):\n",
    "    return differential_operator(expr, d_vals, degrees, algebra = A)\n",
    "\n",
    "# After running this cell, you can use the function d to compute the differential of any element of the algebra.\n",
    "\n",
    "# For example, to compute the differential of a*b, run d(a*b)."
   ]
  },
  {
   "cell_type": "markdown",
   "metadata": {},
   "source": [
    "### GAP Computations"
   ]
  },
  {
   "cell_type": "code",
   "execution_count": 4,
   "metadata": {},
   "outputs": [
    {
     "ename": "TypeError",
     "evalue": "Gap produced error output\nError, Variable: 'Looped' must have a value\nSyntax error: ; expected\n\\$sage1:=Looped multi-digraph on 2 vertices;;\n                ^^^^^\nError, Variable: 'digraph' must have a value\n\n   executing \\$sage1:=Looped multi-digraph on 2 vertices;;",
     "output_type": "error",
     "traceback": [
      "\u001b[0;31m---------------------------------------------------------------------------\u001b[0m",
      "\u001b[0;31mRuntimeError\u001b[0m                              Traceback (most recent call last)",
      "File \u001b[0;32m~/sage/sage-10.2/src/sage/interfaces/gap.py:691\u001b[0m, in \u001b[0;36mGap_generic._eval_line\u001b[0;34m(self, line, allow_use_file, wait_for_prompt, restart_if_needed)\u001b[0m\n\u001b[1;32m    690\u001b[0m     error \u001b[38;5;241m=\u001b[39m error\u001b[38;5;241m.\u001b[39mreplace(\u001b[38;5;124m'\u001b[39m\u001b[38;5;130;01m\\r\u001b[39;00m\u001b[38;5;124m'\u001b[39m,\u001b[38;5;124m'\u001b[39m\u001b[38;5;124m'\u001b[39m)\n\u001b[0;32m--> 691\u001b[0m     \u001b[38;5;28;01mraise\u001b[39;00m \u001b[38;5;167;01mRuntimeError\u001b[39;00m(\u001b[38;5;124m\"\u001b[39m\u001b[38;5;132;01m%s\u001b[39;00m\u001b[38;5;124m produced error output\u001b[39m\u001b[38;5;130;01m\\n\u001b[39;00m\u001b[38;5;132;01m%s\u001b[39;00m\u001b[38;5;130;01m\\n\u001b[39;00m\u001b[38;5;124m   executing \u001b[39m\u001b[38;5;132;01m%s\u001b[39;00m\u001b[38;5;124m\"\u001b[39m \u001b[38;5;241m%\u001b[39m (\u001b[38;5;28mself\u001b[39m, error,line))\n\u001b[1;32m    692\u001b[0m \u001b[38;5;28;01mif\u001b[39;00m \u001b[38;5;129;01mnot\u001b[39;00m normal:\n",
      "\u001b[0;31mRuntimeError\u001b[0m: Gap produced error output\nError, Variable: 'Looped' must have a value\nSyntax error: ; expected\n\\$sage1:=Looped multi-digraph on 2 vertices;;\n                ^^^^^\nError, Variable: 'digraph' must have a value\n\n   executing \\$sage1:=Looped multi-digraph on 2 vertices;;",
      "\nDuring handling of the above exception, another exception occurred:\n",
      "\u001b[0;31mRuntimeError\u001b[0m                              Traceback (most recent call last)",
      "File \u001b[0;32m~/sage/sage-10.2/src/sage/interfaces/expect.py:1496\u001b[0m, in \u001b[0;36mExpectElement.__init__\u001b[0;34m(self, parent, value, is_name, name)\u001b[0m\n\u001b[1;32m   1495\u001b[0m \u001b[38;5;28;01mtry\u001b[39;00m:\n\u001b[0;32m-> 1496\u001b[0m     \u001b[38;5;28mself\u001b[39m\u001b[38;5;241m.\u001b[39m_name \u001b[38;5;241m=\u001b[39m \u001b[43mparent\u001b[49m\u001b[38;5;241;43m.\u001b[39;49m\u001b[43m_create\u001b[49m\u001b[43m(\u001b[49m\u001b[43mvalue\u001b[49m\u001b[43m,\u001b[49m\u001b[43m \u001b[49m\u001b[43mname\u001b[49m\u001b[38;5;241;43m=\u001b[39;49m\u001b[43mname\u001b[49m\u001b[43m)\u001b[49m\n\u001b[1;32m   1497\u001b[0m \u001b[38;5;66;03m# Convert ValueError and RuntimeError to TypeError for\u001b[39;00m\n\u001b[1;32m   1498\u001b[0m \u001b[38;5;66;03m# coercion to work properly.\u001b[39;00m\n",
      "File \u001b[0;32m~/sage/sage-10.2/src/sage/interfaces/interface.py:516\u001b[0m, in \u001b[0;36mInterface._create\u001b[0;34m(self, value, name)\u001b[0m\n\u001b[1;32m    515\u001b[0m name \u001b[38;5;241m=\u001b[39m \u001b[38;5;28mself\u001b[39m\u001b[38;5;241m.\u001b[39m_next_var_name() \u001b[38;5;28;01mif\u001b[39;00m name \u001b[38;5;129;01mis\u001b[39;00m \u001b[38;5;28;01mNone\u001b[39;00m \u001b[38;5;28;01melse\u001b[39;00m name\n\u001b[0;32m--> 516\u001b[0m \u001b[38;5;28;43mself\u001b[39;49m\u001b[38;5;241;43m.\u001b[39;49m\u001b[43mset\u001b[49m\u001b[43m(\u001b[49m\u001b[43mname\u001b[49m\u001b[43m,\u001b[49m\u001b[43m \u001b[49m\u001b[43mvalue\u001b[49m\u001b[43m)\u001b[49m\n\u001b[1;32m    517\u001b[0m \u001b[38;5;28;01mreturn\u001b[39;00m name\n",
      "File \u001b[0;32m~/sage/sage-10.2/src/sage/interfaces/gap.py:1343\u001b[0m, in \u001b[0;36mGap.set\u001b[0;34m(self, var, value)\u001b[0m\n\u001b[1;32m   1342\u001b[0m cmd \u001b[38;5;241m=\u001b[39m (\u001b[38;5;124m'\u001b[39m\u001b[38;5;132;01m%s\u001b[39;00m\u001b[38;5;124m:=\u001b[39m\u001b[38;5;132;01m%s\u001b[39;00m\u001b[38;5;124m;;\u001b[39m\u001b[38;5;124m'\u001b[39m \u001b[38;5;241m%\u001b[39m (var, value))\u001b[38;5;241m.\u001b[39mreplace(\u001b[38;5;124m'\u001b[39m\u001b[38;5;130;01m\\n\u001b[39;00m\u001b[38;5;124m'\u001b[39m,\u001b[38;5;124m'\u001b[39m\u001b[38;5;124m'\u001b[39m)\n\u001b[0;32m-> 1343\u001b[0m \u001b[38;5;28;43mself\u001b[39;49m\u001b[38;5;241;43m.\u001b[39;49m\u001b[43m_eval_line\u001b[49m\u001b[43m(\u001b[49m\u001b[43mcmd\u001b[49m\u001b[43m,\u001b[49m\u001b[43m \u001b[49m\u001b[43mallow_use_file\u001b[49m\u001b[38;5;241;43m=\u001b[39;49m\u001b[38;5;28;43;01mTrue\u001b[39;49;00m\u001b[43m)\u001b[49m\n",
      "File \u001b[0;32m~/sage/sage-10.2/src/sage/interfaces/gap.py:725\u001b[0m, in \u001b[0;36mGap_generic._eval_line\u001b[0;34m(self, line, allow_use_file, wait_for_prompt, restart_if_needed)\u001b[0m\n\u001b[1;32m    724\u001b[0m     \u001b[38;5;28;01melse\u001b[39;00m:\n\u001b[0;32m--> 725\u001b[0m         \u001b[38;5;28;01mraise\u001b[39;00m \u001b[38;5;167;01mRuntimeError\u001b[39;00m(exc)\n\u001b[1;32m    727\u001b[0m \u001b[38;5;28;01mexcept\u001b[39;00m \u001b[38;5;167;01mKeyboardInterrupt\u001b[39;00m:\n",
      "\u001b[0;31mRuntimeError\u001b[0m: Gap produced error output\nError, Variable: 'Looped' must have a value\nSyntax error: ; expected\n\\$sage1:=Looped multi-digraph on 2 vertices;;\n                ^^^^^\nError, Variable: 'digraph' must have a value\n\n   executing \\$sage1:=Looped multi-digraph on 2 vertices;;",
      "\nDuring handling of the above exception, another exception occurred:\n",
      "\u001b[0;31mTypeError\u001b[0m                                 Traceback (most recent call last)",
      "Cell \u001b[0;32mIn [4], line 2\u001b[0m\n\u001b[1;32m      1\u001b[0m gap\u001b[38;5;241m.\u001b[39mload_package(\u001b[38;5;124m\"\u001b[39m\u001b[38;5;124mqpa\u001b[39m\u001b[38;5;124m\"\u001b[39m)\n\u001b[0;32m----> 2\u001b[0m Q \u001b[38;5;241m=\u001b[39m \u001b[43mgap\u001b[49m\u001b[38;5;241;43m.\u001b[39;49m\u001b[43mQuiver\u001b[49m\u001b[43m(\u001b[49m\u001b[43mP\u001b[49m\u001b[43m)\u001b[49m\n",
      "File \u001b[0;32m~/sage/sage-10.2/src/sage/interfaces/interface.py:670\u001b[0m, in \u001b[0;36mInterfaceFunction.__call__\u001b[0;34m(self, *args, **kwds)\u001b[0m\n\u001b[1;32m    669\u001b[0m \u001b[38;5;28;01mdef\u001b[39;00m \u001b[38;5;21m__call__\u001b[39m(\u001b[38;5;28mself\u001b[39m, \u001b[38;5;241m*\u001b[39margs, \u001b[38;5;241m*\u001b[39m\u001b[38;5;241m*\u001b[39mkwds):\n\u001b[0;32m--> 670\u001b[0m     \u001b[38;5;28;01mreturn\u001b[39;00m \u001b[38;5;28;43mself\u001b[39;49m\u001b[38;5;241;43m.\u001b[39;49m\u001b[43m_parent\u001b[49m\u001b[38;5;241;43m.\u001b[39;49m\u001b[43mfunction_call\u001b[49m\u001b[43m(\u001b[49m\u001b[38;5;28;43mself\u001b[39;49m\u001b[38;5;241;43m.\u001b[39;49m\u001b[43m_name\u001b[49m\u001b[43m,\u001b[49m\u001b[43m \u001b[49m\u001b[38;5;28;43mlist\u001b[39;49m\u001b[43m(\u001b[49m\u001b[43margs\u001b[49m\u001b[43m)\u001b[49m\u001b[43m,\u001b[49m\u001b[43m \u001b[49m\u001b[43mkwds\u001b[49m\u001b[43m)\u001b[49m\n",
      "File \u001b[0;32m~/sage/sage-10.2/src/sage/interfaces/gap.py:858\u001b[0m, in \u001b[0;36mGap_generic.function_call\u001b[0;34m(self, function, args, kwds)\u001b[0m\n\u001b[1;32m    819\u001b[0m \u001b[38;5;28;01mdef\u001b[39;00m \u001b[38;5;21mfunction_call\u001b[39m(\u001b[38;5;28mself\u001b[39m, function, args\u001b[38;5;241m=\u001b[39m\u001b[38;5;28;01mNone\u001b[39;00m, kwds\u001b[38;5;241m=\u001b[39m\u001b[38;5;28;01mNone\u001b[39;00m):\n\u001b[1;32m    820\u001b[0m     \u001b[38;5;124;03m\"\"\"\u001b[39;00m\n\u001b[1;32m    821\u001b[0m \u001b[38;5;124;03m    Calls the GAP function with args and kwds.\u001b[39;00m\n\u001b[1;32m    822\u001b[0m \n\u001b[0;32m   (...)\u001b[0m\n\u001b[1;32m    856\u001b[0m \u001b[38;5;124;03m          ConjugacyClassSubgroups(SymmetricGroup( [ 1 .. 2 ] ),Group( [ (1,2) ] )) ]\u001b[39;00m\n\u001b[1;32m    857\u001b[0m \u001b[38;5;124;03m    \"\"\"\u001b[39;00m\n\u001b[0;32m--> 858\u001b[0m     args, kwds \u001b[38;5;241m=\u001b[39m \u001b[38;5;28;43mself\u001b[39;49m\u001b[38;5;241;43m.\u001b[39;49m\u001b[43m_convert_args_kwds\u001b[49m\u001b[43m(\u001b[49m\u001b[43margs\u001b[49m\u001b[43m,\u001b[49m\u001b[43m \u001b[49m\u001b[43mkwds\u001b[49m\u001b[43m)\u001b[49m\n\u001b[1;32m    859\u001b[0m     \u001b[38;5;28mself\u001b[39m\u001b[38;5;241m.\u001b[39m_check_valid_function_name(function)\n\u001b[1;32m    861\u001b[0m     \u001b[38;5;66;03m#Here we have to do some magic because not all GAP\u001b[39;00m\n\u001b[1;32m    862\u001b[0m     \u001b[38;5;66;03m#functions return a value.  If you try to store their\u001b[39;00m\n\u001b[1;32m    863\u001b[0m     \u001b[38;5;66;03m#results to a variable, then GAP will complain.  Thus, before\u001b[39;00m\n\u001b[0;32m   (...)\u001b[0m\n\u001b[1;32m    866\u001b[0m     \u001b[38;5;66;03m#value, then that value will be in 'last', otherwise it will\u001b[39;00m\n\u001b[1;32m    867\u001b[0m     \u001b[38;5;66;03m#be the marker.\u001b[39;00m\n",
      "File \u001b[0;32m~/sage/sage-10.2/src/sage/interfaces/interface.py:572\u001b[0m, in \u001b[0;36mInterface._convert_args_kwds\u001b[0;34m(self, args, kwds)\u001b[0m\n\u001b[1;32m    570\u001b[0m \u001b[38;5;28;01mfor\u001b[39;00m i, arg \u001b[38;5;129;01min\u001b[39;00m \u001b[38;5;28menumerate\u001b[39m(args):\n\u001b[1;32m    571\u001b[0m     \u001b[38;5;28;01mif\u001b[39;00m \u001b[38;5;129;01mnot\u001b[39;00m \u001b[38;5;28misinstance\u001b[39m(arg, InterfaceElement) \u001b[38;5;129;01mor\u001b[39;00m arg\u001b[38;5;241m.\u001b[39mparent() \u001b[38;5;129;01mis\u001b[39;00m \u001b[38;5;129;01mnot\u001b[39;00m \u001b[38;5;28mself\u001b[39m:\n\u001b[0;32m--> 572\u001b[0m         args[i] \u001b[38;5;241m=\u001b[39m \u001b[38;5;28;43mself\u001b[39;49m\u001b[43m(\u001b[49m\u001b[43marg\u001b[49m\u001b[43m)\u001b[49m\n\u001b[1;32m    573\u001b[0m \u001b[38;5;28;01mfor\u001b[39;00m key, value \u001b[38;5;129;01min\u001b[39;00m kwds\u001b[38;5;241m.\u001b[39mitems():\n\u001b[1;32m    574\u001b[0m     \u001b[38;5;28;01mif\u001b[39;00m \u001b[38;5;129;01mnot\u001b[39;00m \u001b[38;5;28misinstance\u001b[39m(value, InterfaceElement) \u001b[38;5;129;01mor\u001b[39;00m value\u001b[38;5;241m.\u001b[39mparent() \u001b[38;5;129;01mis\u001b[39;00m \u001b[38;5;129;01mnot\u001b[39;00m \u001b[38;5;28mself\u001b[39m:\n",
      "File \u001b[0;32m~/sage/sage-10.2/src/sage/interfaces/interface.py:305\u001b[0m, in \u001b[0;36mInterface.__call__\u001b[0;34m(self, x, name)\u001b[0m\n\u001b[1;32m    298\u001b[0m     \u001b[38;5;28;01mreturn\u001b[39;00m \u001b[38;5;28mcls\u001b[39m(\u001b[38;5;28mself\u001b[39m, x, name\u001b[38;5;241m=\u001b[39mname)\n\u001b[1;32m    299\u001b[0m \u001b[38;5;28;01mtry\u001b[39;00m:\n\u001b[1;32m    300\u001b[0m     \u001b[38;5;66;03m# Special methods do not and should not have an option to\u001b[39;00m\n\u001b[1;32m    301\u001b[0m     \u001b[38;5;66;03m# set the name directly, as the identifier assigned by the\u001b[39;00m\n\u001b[1;32m    302\u001b[0m     \u001b[38;5;66;03m# interface should stay consistent. An identifier with a\u001b[39;00m\n\u001b[1;32m    303\u001b[0m     \u001b[38;5;66;03m# user-assigned name might change its value, so we return a\u001b[39;00m\n\u001b[1;32m    304\u001b[0m     \u001b[38;5;66;03m# new element.\u001b[39;00m\n\u001b[0;32m--> 305\u001b[0m     result \u001b[38;5;241m=\u001b[39m \u001b[38;5;28;43mself\u001b[39;49m\u001b[38;5;241;43m.\u001b[39;49m\u001b[43m_coerce_from_special_method\u001b[49m\u001b[43m(\u001b[49m\u001b[43mx\u001b[49m\u001b[43m)\u001b[49m\n\u001b[1;32m    306\u001b[0m     \u001b[38;5;28;01mreturn\u001b[39;00m result \u001b[38;5;28;01mif\u001b[39;00m name \u001b[38;5;129;01mis\u001b[39;00m \u001b[38;5;28;01mNone\u001b[39;00m \u001b[38;5;28;01melse\u001b[39;00m result\u001b[38;5;241m.\u001b[39mname(new_name\u001b[38;5;241m=\u001b[39mname)\n\u001b[1;32m    307\u001b[0m \u001b[38;5;28;01mexcept\u001b[39;00m \u001b[38;5;167;01mTypeError\u001b[39;00m:\n",
      "File \u001b[0;32m~/sage/sage-10.2/src/sage/interfaces/interface.py:333\u001b[0m, in \u001b[0;36mInterface._coerce_from_special_method\u001b[0;34m(self, x)\u001b[0m\n\u001b[1;32m    331\u001b[0m     s \u001b[38;5;241m=\u001b[39m \u001b[38;5;124m'\u001b[39m\u001b[38;5;124m_gp_\u001b[39m\u001b[38;5;124m'\u001b[39m\n\u001b[1;32m    332\u001b[0m \u001b[38;5;28;01mtry\u001b[39;00m:\n\u001b[0;32m--> 333\u001b[0m     \u001b[38;5;28;01mreturn\u001b[39;00m \u001b[43m(\u001b[49m\u001b[43mx\u001b[49m\u001b[38;5;241;43m.\u001b[39;49m\u001b[38;5;21;43m__getattribute__\u001b[39;49m\u001b[43m(\u001b[49m\u001b[43ms\u001b[49m\u001b[43m)\u001b[49m\u001b[43m)\u001b[49m\u001b[43m(\u001b[49m\u001b[38;5;28;43mself\u001b[39;49m\u001b[43m)\u001b[49m\n\u001b[1;32m    334\u001b[0m \u001b[38;5;28;01mexcept\u001b[39;00m \u001b[38;5;167;01mAttributeError\u001b[39;00m:\n\u001b[1;32m    335\u001b[0m     \u001b[38;5;28;01mreturn\u001b[39;00m \u001b[38;5;28mself\u001b[39m(x\u001b[38;5;241m.\u001b[39m_interface_init_())\n",
      "File \u001b[0;32m~/sage/sage-10.2/src/sage/structure/sage_object.pyx:749\u001b[0m, in \u001b[0;36msage.structure.sage_object.SageObject._gap_\u001b[0;34m()\u001b[0m\n\u001b[1;32m    747\u001b[0m         import sage.interfaces.gap\n\u001b[1;32m    748\u001b[0m         G = sage.interfaces.gap.gap\n\u001b[0;32m--> 749\u001b[0m     return self._interface_(G)\n\u001b[1;32m    750\u001b[0m \n\u001b[1;32m    751\u001b[0m def _gap_init_(self):\n",
      "File \u001b[0;32m~/sage/sage-10.2/src/sage/structure/sage_object.pyx:725\u001b[0m, in \u001b[0;36msage.structure.sage_object.SageObject._interface_\u001b[0;34m()\u001b[0m\n\u001b[1;32m    723\u001b[0m     except Exception:\n\u001b[1;32m    724\u001b[0m         raise NotImplementedError(\"coercion of object %s to %s not implemented:\\n%s\\n%s\" % (repr(self), I))\n\u001b[0;32m--> 725\u001b[0m X = I(s)\n\u001b[1;32m    726\u001b[0m if c:\n\u001b[1;32m    727\u001b[0m     try:\n",
      "File \u001b[0;32m~/sage/sage-10.2/src/sage/interfaces/interface.py:298\u001b[0m, in \u001b[0;36mInterface.__call__\u001b[0;34m(self, x, name)\u001b[0m\n\u001b[1;32m    295\u001b[0m         \u001b[38;5;28;01mpass\u001b[39;00m\n\u001b[1;32m    297\u001b[0m \u001b[38;5;28;01mif\u001b[39;00m \u001b[38;5;28misinstance\u001b[39m(x, \u001b[38;5;28mstr\u001b[39m):\n\u001b[0;32m--> 298\u001b[0m     \u001b[38;5;28;01mreturn\u001b[39;00m \u001b[38;5;28;43mcls\u001b[39;49m\u001b[43m(\u001b[49m\u001b[38;5;28;43mself\u001b[39;49m\u001b[43m,\u001b[49m\u001b[43m \u001b[49m\u001b[43mx\u001b[49m\u001b[43m,\u001b[49m\u001b[43m \u001b[49m\u001b[43mname\u001b[49m\u001b[38;5;241;43m=\u001b[39;49m\u001b[43mname\u001b[49m\u001b[43m)\u001b[49m\n\u001b[1;32m    299\u001b[0m \u001b[38;5;28;01mtry\u001b[39;00m:\n\u001b[1;32m    300\u001b[0m     \u001b[38;5;66;03m# Special methods do not and should not have an option to\u001b[39;00m\n\u001b[1;32m    301\u001b[0m     \u001b[38;5;66;03m# set the name directly, as the identifier assigned by the\u001b[39;00m\n\u001b[1;32m    302\u001b[0m     \u001b[38;5;66;03m# interface should stay consistent. An identifier with a\u001b[39;00m\n\u001b[1;32m    303\u001b[0m     \u001b[38;5;66;03m# user-assigned name might change its value, so we return a\u001b[39;00m\n\u001b[1;32m    304\u001b[0m     \u001b[38;5;66;03m# new element.\u001b[39;00m\n\u001b[1;32m    305\u001b[0m     result \u001b[38;5;241m=\u001b[39m \u001b[38;5;28mself\u001b[39m\u001b[38;5;241m.\u001b[39m_coerce_from_special_method(x)\n",
      "File \u001b[0;32m~/sage/sage-10.2/src/sage/interfaces/expect.py:1501\u001b[0m, in \u001b[0;36mExpectElement.__init__\u001b[0;34m(self, parent, value, is_name, name)\u001b[0m\n\u001b[1;32m   1499\u001b[0m \u001b[38;5;28;01mexcept\u001b[39;00m (\u001b[38;5;167;01mRuntimeError\u001b[39;00m, \u001b[38;5;167;01mValueError\u001b[39;00m) \u001b[38;5;28;01mas\u001b[39;00m x:\n\u001b[1;32m   1500\u001b[0m     \u001b[38;5;28mself\u001b[39m\u001b[38;5;241m.\u001b[39m_session_number \u001b[38;5;241m=\u001b[39m \u001b[38;5;241m-\u001b[39m\u001b[38;5;241m1\u001b[39m\n\u001b[0;32m-> 1501\u001b[0m     \u001b[38;5;28;01mraise\u001b[39;00m \u001b[38;5;167;01mTypeError\u001b[39;00m(\u001b[38;5;241m*\u001b[39mx\u001b[38;5;241m.\u001b[39margs)\n\u001b[1;32m   1502\u001b[0m \u001b[38;5;28;01mexcept\u001b[39;00m \u001b[38;5;167;01mBaseException\u001b[39;00m:\n\u001b[1;32m   1503\u001b[0m     \u001b[38;5;28mself\u001b[39m\u001b[38;5;241m.\u001b[39m_session_number \u001b[38;5;241m=\u001b[39m \u001b[38;5;241m-\u001b[39m\u001b[38;5;241m1\u001b[39m\n",
      "\u001b[0;31mTypeError\u001b[0m: Gap produced error output\nError, Variable: 'Looped' must have a value\nSyntax error: ; expected\n\\$sage1:=Looped multi-digraph on 2 vertices;;\n                ^^^^^\nError, Variable: 'digraph' must have a value\n\n   executing \\$sage1:=Looped multi-digraph on 2 vertices;;"
     ]
    }
   ],
   "source": [
    "gap.load_package(\"qpa\")\n",
    "Q = gap.eval(\"{Integer(0): {Integer(0): ['a','b','x','y','z'], Integer(1): ['p','q']}, Integer(1): {Integer(0): ['r','s'], Integer(1): ['c']} }\")\n",
    "gap.eval(\"2, [[1,1,1,1,1]]\")"
   ]
  },
  {
   "cell_type": "code",
   "execution_count": 4,
   "metadata": {},
   "outputs": [
    {
     "name": "stdout",
     "output_type": "stream",
     "text": [
      "2.00000000000000*z + 2.00000000000000*x + 1.00000000000000*y*z - 1.00000000000000*z*y + 2.00000000000000*z*y*z + 2.00000000000000*x*y*z + 2.00000000000000*z*y*x + 1.00000000000000*r*q*x + 1.00000000000000*s*p*x + 2.00000000000000*z*y*x*y*z + 1.00000000000000*r*q*x*y*z + 1.00000000000000*z*y*s*p*x\n",
      "2.00000000000000*z + 2.00000000000000*x + 1.00000000000000*x*y - 1.00000000000000*y*x + 2.00000000000000*x*y*z + 2.00000000000000*z*y*x + 2.00000000000000*x*y*x + 1.00000000000000*r*q*x + 1.00000000000000*s*p*x + 2.00000000000000*x*y*z*y*x + 1.00000000000000*s*p*x*y*x + 1.00000000000000*x*y*r*q*x\n",
      "-2.00000000000000*z - 1.00000000000000*x*z + 1.00000000000000*z*x + 1.00000000000000*z*x*y*z - 1.00000000000000*z*y*x*z - 1.00000000000000*r*q*x*z + 1.00000000000000*z*s*p*x\n"
     ]
    }
   ],
   "source": [
    "# Run this in Z_2\n",
    "print(d((e_0+z*y)*a+b*(e_0+y*z)))\n",
    "print(d(a*(e_0+y*x)+(e_0+x*y)*b))\n",
    "print(d(z*a-b*z))\n",
    "\n",
    "\n"
   ]
  },
  {
   "cell_type": "markdown",
   "metadata": {},
   "source": [
    "# $\\implies$ The degree zero homology is commutative in $\\Z_2$."
   ]
  },
  {
   "cell_type": "code",
   "execution_count": 7,
   "metadata": {},
   "outputs": [
    {
     "name": "stdout",
     "output_type": "stream",
     "text": [
      "-1.00000000000000*b - 1.00000000000000*a - 1.00000000000000*a*z - 1.00000000000000*a*x + 1.00000000000000*z*b + 1.00000000000000*x*b - 1.00000000000000*a*z*y*x - 1.00000000000000*a*r*q*x + 1.00000000000000*x*y*z*b + 1.00000000000000*s*p*x*b\n"
     ]
    }
   ],
   "source": [
    "print(d(a*b))"
   ]
  }
 ],
 "metadata": {
  "kernelspec": {
   "display_name": "SageMath 10.2",
   "language": "sage",
   "name": "sagemath"
  },
  "language_info": {
   "codemirror_mode": {
    "name": "ipython",
    "version": 3
   },
   "file_extension": ".py",
   "mimetype": "text/x-python",
   "name": "python",
   "nbconvert_exporter": "python",
   "pygments_lexer": "ipython3",
   "version": "3.11.1"
  }
 },
 "nbformat": 4,
 "nbformat_minor": 2
}
