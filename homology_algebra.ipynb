{
 "cells": [
  {
   "cell_type": "markdown",
   "metadata": {},
   "source": [
    "# Computing LCH with Sympy"
   ]
  },
  {
   "cell_type": "markdown",
   "metadata": {},
   "source": [
    "To use this notebook, execute the next block defining the differential operator function. Next, adapt the data in the following example blocks to your cases of interest."
   ]
  },
  {
   "cell_type": "code",
   "execution_count": 14,
   "metadata": {},
   "outputs": [],
   "source": [
    "import sympy as sp\n",
    "from sage.all import *\n",
    "\n",
    "def alg_mul(*args):\n",
    "    result = args[0]\n",
    "    for arg in args[1:]:\n",
    "        result = result._mul_(arg)\n",
    "    return result\n",
    "\n",
    "def differential_operator(expr, generator_images, generator_degrees, algebra=None):\n",
    "    if expr == 0:\n",
    "        return 0\n",
    "    if algebra:\n",
    "        if len(expr.terms())>1:\n",
    "            sum  = 0\n",
    "            for term in expr.terms():\n",
    "                sum += differential_operator(term, generator_images, generator_degrees, algebra=algebra)\n",
    "            return sum\n",
    "        elif len(str(expr.support()[0]).split('*'))>1:\n",
    " \n",
    "            path = str(expr.support()[0]).split('*')\n",
    " \n",
    "            coeff = expr.coefficients()[0]\n",
    "            algebra_path = []\n",
    "            for vertex in path:\n",
    "                for gen in algebra.gens():\n",
    "                    if vertex in str(gen):\n",
    "                        algebra_path.append(gen)\n",
    "            # Apply the derivation relation: d(a * b) = d(a) * b + a * d(b)\n",
    "   \n",
    "                        \n",
    "            first_term = coeff*differential_operator(algebra_path[0], generator_images, generator_degrees, algebra=algebra) * alg_mul(*algebra_path[1:])\n",
    "            degree_of_first = generator_degrees.get(algebra_path[0], 0)\n",
    "\n",
    "            second_term = (-1)**degree_of_first *coeff* algebra_path[0] * differential_operator(alg_mul(*algebra_path[1:]), generator_images, generator_degrees, algebra=algebra)\n",
    "            return first_term + second_term\n",
    "        else:\n",
    "            coeff = expr.coefficients()[0]\n",
    "            if 1/coeff * expr in generator_images:\n",
    "                return coeff * generator_images[1/coeff * expr]\n",
    "            else:\n",
    "                return 0\n",
    "    else:\n",
    "        expr = expr.expand()\n",
    "        if expr in generator_images:\n",
    "            return generator_images[expr]\n",
    "        elif expr.is_Pow:\n",
    "            base, exp = expr.as_base_exp()\n",
    "            if base in generator_degrees:\n",
    "                # Apply the chain rule: d(a^n) = n * a^(n-1) * d(a)\n",
    "                return exp * base**(exp - 1) * differential_operator(base, generator_images, generator_degrees)\n",
    "            else:\n",
    "                return 0\n",
    "        elif expr.is_Add:\n",
    "            return sp.Add(*[differential_operator(arg, generator_images, generator_degrees) for arg in expr.args])\n",
    "        elif expr.is_Mul:\n",
    "            # Apply the derivation relation: d(a * b) = d(a) * b + a * d(b)\n",
    "            coeff, rest = expr.as_coeff_mul()\n",
    "            first_term = differential_operator(rest[0], generator_images, generator_degrees) * sp.Mul(*rest[1:]) * coeff\n",
    "            degree_of_first = generator_degrees.get(rest[0], 0)\n",
    "            second_term = (-1)**degree_of_first * rest[0] * differential_operator(sp.Mul(*rest[1:]), generator_images, generator_degrees) * coeff\n",
    "            return first_term + second_term\n",
    "        else:\n",
    "            return 0\n",
    "\n"
   ]
  },
  {
   "cell_type": "code",
   "execution_count": 11,
   "metadata": {},
   "outputs": [],
   "source": [
    "# This is for P5\n",
    "\n",
    "P = DiGraph({Integer(0): {Integer(0): 'a', Integer(2): 'y'}, Integer(1): {Integer(1): 'b', Integer(2): 'w'}, Integer(2): {Integer(2): 'c', Integer(0): 'x', Integer(1): 'z'}})\n",
    "# Define your quiver (documentation at https://doc.sagemath.org/html/en/reference/graphs/sage/graphs/digraph.html)\n",
    "\n",
    "\n",
    "P_group = P.path_semigroup()\n",
    "A = P_group.algebra(CC)\n",
    "\n",
    "e_0, e_1, e_2, a,b,c,w,x,y,z = A.gens()\n",
    "# Give a name to the generators of the algebra. Preferably, use the same names as the edges of the quiver.\n",
    "# Run A.gens() in a cell to see the order and names of the edges corresponding to the generators.\n",
    "# Todo - make this automatic\n",
    "\n",
    "\n",
    "# Define here how the differential should act on generators.\n",
    "d_vals = {\n",
    "    e_0: 0,\n",
    "    e_1: 0,\n",
    "    e_2: 0, \n",
    "    a: -y*x,\n",
    "    b: -w*z,\n",
    "    c: -x*y*z*w,\n",
    "    x: 0,\n",
    "    y: 0,\n",
    "    z: 0,\n",
    "    w: 0\n",
    "}\n",
    "\n",
    "\n",
    "# Define here the degrees of the generators.\n",
    "degrees = {\n",
    "    e_0: 0,\n",
    "    e_1: 0,\n",
    "    e_2: 0,\n",
    "    a: 1,\n",
    "    b: 1,\n",
    "    c: 1,\n",
    "    x: 0,\n",
    "    y: 0,\n",
    "    z: 0,\n",
    "    w: 0\n",
    "}\n",
    "\n",
    "def d(expr):\n",
    "    return differential_operator(expr, d_vals, degrees, algebra = A)\n",
    "\n",
    "# After running this cell, you can use the function d to compute the differential of any element of the algebra.\n",
    "# For example, to compute the differential of a*b, run d(a*b)."
   ]
  },
  {
   "cell_type": "code",
   "execution_count": 18,
   "metadata": {},
   "outputs": [
    {
     "name": "stdout",
     "output_type": "stream",
     "text": [
      "1.00000000000000*x*a\n",
      "-1.00000000000000*x*y*x\n",
      "-1.00000000000000*x*y*x\n"
     ]
    }
   ],
   "source": [
    "expr = x*a\n",
    "print(expr)\n",
    "print(d(x*a))\n",
    "print(d(expr))"
   ]
  },
  {
   "cell_type": "code",
   "execution_count": 8,
   "metadata": {},
   "outputs": [],
   "source": [
    "# For P1 according to CM\n",
    "\n",
    "P = DiGraph({Integer(0): {Integer(0): ['a','b','x','y','z']}})\n",
    "\n",
    "P_group = P.path_semigroup()\n",
    "A = P_group.algebra(CC)\n",
    "\n",
    "e_0, a,b,x,y,z = A.gens()\n",
    "\n",
    "# a,b = sp.symbols('a, b', commutative=False) # degree 1\n",
    "# x,y,z = sp.symbols('x, y, z', commutative=False) # degree 0\n",
    "\n",
    "d_vals = {\n",
    "    e_0: 0,\n",
    "    a: 1+x+z+x*y*z,\n",
    "    b: 1+x+z+z*y*x,\n",
    "    x: 0,\n",
    "    y: 0,\n",
    "    z: 0\n",
    "    }\n",
    "\n",
    "degrees = {\n",
    "    e_0: 0,\n",
    "    a: 1,\n",
    "    b: 1,\n",
    "    x: 0,\n",
    "    y: 0,\n",
    "    z: 0\n",
    "}\n",
    "\n",
    "def d(expr):\n",
    "    return differential_operator(expr, d_vals, degrees, algebra=A)\n",
    "\n",
    "\n",
    "\n"
   ]
  },
  {
   "cell_type": "code",
   "execution_count": 20,
   "metadata": {},
   "outputs": [
    {
     "name": "stdout",
     "output_type": "stream",
     "text": [
      "1.00000000000000*x*y*x*a*a\n",
      "-1.00000000000000*x*y*x*a*z - 1.00000000000000*x*y*x*a*x + 1.00000000000000*x*y*x*z*a + 1.00000000000000*x*y*x*x*a - 1.00000000000000*x*y*x*a*x*y*z + 1.00000000000000*x*y*x*x*y*z*a\n"
     ]
    }
   ],
   "source": [
    "expr = x+y+ a**2\n",
    "expr = x*y*x*a*a\n",
    "print(expr)\n",
    "print(d(expr))\n"
   ]
  },
  {
   "cell_type": "code",
   "execution_count": 9,
   "metadata": {},
   "outputs": [
    {
     "name": "stdout",
     "output_type": "stream",
     "text": [
      "-1.00000000000000*y*z + 1.00000000000000*z*y\n",
      "-1.00000000000000*y*z + 1.00000000000000*z*y\n"
     ]
    }
   ],
   "source": [
    "expr = (1+z*y)*a-b*(1+y*z)\n",
    "print(d((1+z*y)*a-b*(1+y*z)))\n",
    "\n",
    "print(d(expr))\n"
   ]
  },
  {
   "cell_type": "code",
   "execution_count": 144,
   "metadata": {},
   "outputs": [
    {
     "name": "stdout",
     "output_type": "stream",
     "text": [
      "['x', 'y', 'x', 'a', 'a']\n",
      "allahu akhbar\n",
      "1.00000000000000*x\n"
     ]
    }
   ],
   "source": [
    "factors = str(xp).split('*')\n",
    "print(factors)\n",
    "\n",
    "if 'x' in str(x):\n",
    "    print('allahu akhbar')\n",
    "    print(str(x))"
   ]
  },
  {
   "cell_type": "code",
   "execution_count": 150,
   "metadata": {},
   "outputs": [
    {
     "name": "stdout",
     "output_type": "stream",
     "text": [
      "None\n",
      "1.00000000000000*x*y\n"
     ]
    }
   ],
   "source": [
    "print(x.get_custom_name())\n",
    "\n",
    "listy = [x,y,z]\n",
    "product = x.__mul_(y)\n",
    "print(product)"
   ]
  },
  {
   "cell_type": "code",
   "execution_count": 115,
   "metadata": {},
   "outputs": [
    {
     "name": "stdout",
     "output_type": "stream",
     "text": [
      "2.00000000000000*x\n"
     ]
    },
    {
     "ename": "AttributeError",
     "evalue": "'PathAlgebra_with_category' object has no attribute 'is_commutative'",
     "output_type": "error",
     "traceback": [
      "\u001b[0;31m---------------------------------------------------------------------------\u001b[0m",
      "\u001b[0;31mKeyError\u001b[0m                                  Traceback (most recent call last)",
      "File \u001b[0;32m~/sage/sage-10.2/src/sage/structure/category_object.pyx:847\u001b[0m, in \u001b[0;36msage.structure.category_object.CategoryObject.getattr_from_category\u001b[0;34m()\u001b[0m\n\u001b[1;32m    846\u001b[0m try:\n\u001b[0;32m--> 847\u001b[0m     return self._cached_methods[name]\n\u001b[1;32m    848\u001b[0m except KeyError:\n",
      "\u001b[0;31mKeyError\u001b[0m: 'is_commutative'",
      "\nDuring handling of the above exception, another exception occurred:\n",
      "\u001b[0;31mAttributeError\u001b[0m                            Traceback (most recent call last)",
      "Cell \u001b[0;32mIn [115], line 2\u001b[0m\n\u001b[1;32m      1\u001b[0m \u001b[38;5;28mprint\u001b[39m(Integer(\u001b[38;5;241m2\u001b[39m)\u001b[38;5;241m*\u001b[39mx)\n\u001b[0;32m----> 2\u001b[0m \u001b[38;5;28mprint\u001b[39m(\u001b[43m(\u001b[49m\u001b[43mInteger\u001b[49m\u001b[43m(\u001b[49m\u001b[38;5;241;43m2\u001b[39;49m\u001b[43m)\u001b[49m\u001b[38;5;241;43m*\u001b[39;49m\u001b[43mx\u001b[49m\u001b[43m)\u001b[49m\u001b[38;5;241;43m.\u001b[39;49m\u001b[43mis_prime\u001b[49m\u001b[43m(\u001b[49m\u001b[43m)\u001b[49m)\n",
      "File \u001b[0;32m~/sage/sage-10.2/src/sage/structure/element.pyx:2969\u001b[0m, in \u001b[0;36msage.structure.element.RingElement.is_prime\u001b[0;34m()\u001b[0m\n\u001b[1;32m   2967\u001b[0m if not self:  # We exclude the 0 element\n\u001b[1;32m   2968\u001b[0m     return False\n\u001b[0;32m-> 2969\u001b[0m return self._parent.ideal(self).is_prime()\n\u001b[1;32m   2970\u001b[0m \n\u001b[1;32m   2971\u001b[0m \n",
      "File \u001b[0;32m~/sage/sage-10.2/src/sage/categories/rings.py:718\u001b[0m, in \u001b[0;36mRings.ParentMethods.ideal\u001b[0;34m(self, *args, **kwds)\u001b[0m\n\u001b[1;32m    716\u001b[0m \u001b[38;5;28;01mif\u001b[39;00m \u001b[38;5;28mlen\u001b[39m(gens) \u001b[38;5;241m==\u001b[39m \u001b[38;5;241m1\u001b[39m \u001b[38;5;129;01mand\u001b[39;00m \u001b[38;5;28misinstance\u001b[39m(gens[\u001b[38;5;241m0\u001b[39m], (\u001b[38;5;28mlist\u001b[39m, \u001b[38;5;28mtuple\u001b[39m)):\n\u001b[1;32m    717\u001b[0m     gens \u001b[38;5;241m=\u001b[39m gens[\u001b[38;5;241m0\u001b[39m]\n\u001b[0;32m--> 718\u001b[0m \u001b[38;5;28;01mreturn\u001b[39;00m \u001b[43mC\u001b[49m\u001b[43m(\u001b[49m\u001b[38;5;28;43mself\u001b[39;49m\u001b[43m,\u001b[49m\u001b[43m \u001b[49m\u001b[43mgens\u001b[49m\u001b[43m,\u001b[49m\u001b[43m \u001b[49m\u001b[38;5;241;43m*\u001b[39;49m\u001b[38;5;241;43m*\u001b[39;49m\u001b[43mkwds\u001b[49m\u001b[43m)\u001b[49m\n",
      "File \u001b[0;32m~/sage/sage-10.2/src/sage/rings/noncommutative_ideals.pyx:242\u001b[0m, in \u001b[0;36msage.rings.noncommutative_ideals.Ideal_nc.__init__\u001b[0;34m()\u001b[0m\n\u001b[1;32m    240\u001b[0m         raise ValueError(\"Ideals are left, right or twosided, but not %s\" % side)\n\u001b[1;32m    241\u001b[0m     self.__side = side\n\u001b[0;32m--> 242\u001b[0m     Ideal_generic.__init__(self, ring, gens, coerce=coerce)\n\u001b[1;32m    243\u001b[0m \n\u001b[1;32m    244\u001b[0m def __repr__(self):\n",
      "File \u001b[0;32m~/sage/sage-10.2/src/sage/rings/ideal.py:280\u001b[0m, in \u001b[0;36mIdeal_generic.__init__\u001b[0;34m(self, ring, gens, coerce)\u001b[0m\n\u001b[1;32m    278\u001b[0m     gens \u001b[38;5;241m=\u001b[39m (ring\u001b[38;5;241m.\u001b[39mzero(),)\n\u001b[1;32m    279\u001b[0m \u001b[38;5;28mself\u001b[39m\u001b[38;5;241m.\u001b[39m__gens \u001b[38;5;241m=\u001b[39m gens\n\u001b[0;32m--> 280\u001b[0m MonoidElement\u001b[38;5;241m.\u001b[39m\u001b[38;5;21m__init__\u001b[39m(\u001b[38;5;28mself\u001b[39m, \u001b[43mring\u001b[49m\u001b[38;5;241;43m.\u001b[39;49m\u001b[43mideal_monoid\u001b[49m\u001b[43m(\u001b[49m\u001b[43m)\u001b[49m)\n",
      "File \u001b[0;32m~/sage/sage-10.2/src/sage/misc/cachefunc.pyx:2329\u001b[0m, in \u001b[0;36msage.misc.cachefunc.CachedMethodCallerNoArgs.__call__\u001b[0;34m()\u001b[0m\n\u001b[1;32m   2327\u001b[0m if self.cache is None:\n\u001b[1;32m   2328\u001b[0m     f = self.f\n\u001b[0;32m-> 2329\u001b[0m     self.cache = f(self._instance)\n\u001b[1;32m   2330\u001b[0m return self.cache\n\u001b[1;32m   2331\u001b[0m \n",
      "File \u001b[0;32m~/sage/sage-10.2/src/sage/categories/rings.py:560\u001b[0m, in \u001b[0;36mRings.ParentMethods.ideal_monoid\u001b[0;34m(self)\u001b[0m\n\u001b[1;32m    558\u001b[0m \u001b[38;5;28;01mtry\u001b[39;00m:\n\u001b[1;32m    559\u001b[0m     \u001b[38;5;28;01mfrom\u001b[39;00m \u001b[38;5;21;01msage\u001b[39;00m\u001b[38;5;21;01m.\u001b[39;00m\u001b[38;5;21;01mrings\u001b[39;00m\u001b[38;5;21;01m.\u001b[39;00m\u001b[38;5;21;01mideal_monoid\u001b[39;00m \u001b[38;5;28;01mimport\u001b[39;00m IdealMonoid\n\u001b[0;32m--> 560\u001b[0m     \u001b[38;5;28;01mreturn\u001b[39;00m \u001b[43mIdealMonoid\u001b[49m\u001b[43m(\u001b[49m\u001b[38;5;28;43mself\u001b[39;49m\u001b[43m)\u001b[49m\n\u001b[1;32m    561\u001b[0m \u001b[38;5;28;01mexcept\u001b[39;00m \u001b[38;5;167;01mTypeError\u001b[39;00m:\n\u001b[1;32m    562\u001b[0m     \u001b[38;5;28;01mfrom\u001b[39;00m \u001b[38;5;21;01msage\u001b[39;00m\u001b[38;5;21;01m.\u001b[39;00m\u001b[38;5;21;01mrings\u001b[39;00m\u001b[38;5;21;01m.\u001b[39;00m\u001b[38;5;21;01mnoncommutative_ideals\u001b[39;00m \u001b[38;5;28;01mimport\u001b[39;00m IdealMonoid_nc\n",
      "File \u001b[0;32m~/sage/sage-10.2/src/sage/rings/ideal_monoid.py:28\u001b[0m, in \u001b[0;36mIdealMonoid\u001b[0;34m(R)\u001b[0m\n\u001b[1;32m     17\u001b[0m \u001b[38;5;28;01mdef\u001b[39;00m \u001b[38;5;21mIdealMonoid\u001b[39m(R):\n\u001b[1;32m     18\u001b[0m     \u001b[38;5;124mr\u001b[39m\u001b[38;5;124;03m\"\"\"\u001b[39;00m\n\u001b[1;32m     19\u001b[0m \u001b[38;5;124;03m    Return the monoid of ideals in the ring ``R``.\u001b[39;00m\n\u001b[1;32m     20\u001b[0m \n\u001b[0;32m   (...)\u001b[0m\n\u001b[1;32m     26\u001b[0m \u001b[38;5;124;03m        Monoid of ideals of Univariate Polynomial Ring in x over Rational Field\u001b[39;00m\n\u001b[1;32m     27\u001b[0m \u001b[38;5;124;03m    \"\"\"\u001b[39;00m\n\u001b[0;32m---> 28\u001b[0m     \u001b[38;5;28;01mreturn\u001b[39;00m \u001b[43mIdealMonoid_c\u001b[49m\u001b[43m(\u001b[49m\u001b[43mR\u001b[49m\u001b[43m)\u001b[49m\n",
      "File \u001b[0;32m~/sage/sage-10.2/src/sage/rings/ideal_monoid.py:72\u001b[0m, in \u001b[0;36mIdealMonoid_c.__init__\u001b[0;34m(self, R)\u001b[0m\n\u001b[1;32m     70\u001b[0m \u001b[38;5;28mself\u001b[39m\u001b[38;5;241m.\u001b[39m__R \u001b[38;5;241m=\u001b[39m R\n\u001b[1;32m     71\u001b[0m cat \u001b[38;5;241m=\u001b[39m Monoids()\n\u001b[0;32m---> 72\u001b[0m \u001b[38;5;28;01mif\u001b[39;00m \u001b[43mR\u001b[49m\u001b[38;5;241;43m.\u001b[39;49m\u001b[43mis_commutative\u001b[49m():\n\u001b[1;32m     73\u001b[0m     cat \u001b[38;5;241m=\u001b[39m cat\u001b[38;5;241m.\u001b[39mCommutative()\n\u001b[1;32m     74\u001b[0m Parent\u001b[38;5;241m.\u001b[39m\u001b[38;5;21m__init__\u001b[39m(\u001b[38;5;28mself\u001b[39m, base\u001b[38;5;241m=\u001b[39msage\u001b[38;5;241m.\u001b[39mrings\u001b[38;5;241m.\u001b[39minteger_ring\u001b[38;5;241m.\u001b[39mZZ,\n\u001b[1;32m     75\u001b[0m                 category\u001b[38;5;241m=\u001b[39mcat)\n",
      "File \u001b[0;32m~/sage/sage-10.2/src/sage/structure/category_object.pyx:841\u001b[0m, in \u001b[0;36msage.structure.category_object.CategoryObject.__getattr__\u001b[0;34m()\u001b[0m\n\u001b[1;32m    839\u001b[0m         AttributeError: 'PrimeNumbers_with_category' object has no attribute 'sadfasdf'...\n\u001b[1;32m    840\u001b[0m     \"\"\"\n\u001b[0;32m--> 841\u001b[0m     return self.getattr_from_category(name)\n\u001b[1;32m    842\u001b[0m \n\u001b[1;32m    843\u001b[0m cdef getattr_from_category(self, name) noexcept:\n",
      "File \u001b[0;32m~/sage/sage-10.2/src/sage/structure/category_object.pyx:856\u001b[0m, in \u001b[0;36msage.structure.category_object.CategoryObject.getattr_from_category\u001b[0;34m()\u001b[0m\n\u001b[1;32m    854\u001b[0m     cls = self._category.parent_class\n\u001b[1;32m    855\u001b[0m \n\u001b[0;32m--> 856\u001b[0m attr = getattr_from_other_class(self, cls, name)\n\u001b[1;32m    857\u001b[0m self._cached_methods[name] = attr\n\u001b[1;32m    858\u001b[0m return attr\n",
      "File \u001b[0;32m~/sage/sage-10.2/src/sage/cpython/getattr.pyx:357\u001b[0m, in \u001b[0;36msage.cpython.getattr.getattr_from_other_class\u001b[0;34m()\u001b[0m\n\u001b[1;32m    355\u001b[0m     dummy_error_message.cls = type(self)\n\u001b[1;32m    356\u001b[0m     dummy_error_message.name = name\n\u001b[0;32m--> 357\u001b[0m     raise AttributeError(dummy_error_message)\n\u001b[1;32m    358\u001b[0m cdef PyObject* attr = instance_getattr(cls, name)\n\u001b[1;32m    359\u001b[0m if attr is NULL:\n",
      "\u001b[0;31mAttributeError\u001b[0m: 'PathAlgebra_with_category' object has no attribute 'is_commutative'"
     ]
    }
   ],
   "source": [
    "print(2*x)\n",
    "print((2*x).)\n"
   ]
  },
  {
   "cell_type": "code",
   "execution_count": 60,
   "metadata": {},
   "outputs": [],
   "source": [
    "def differential_operator(expr, generator_images, generator_degrees, algebra=None):\n",
    "    if algebra:\n",
    "    # expr = expr.expand()\n",
    "        # elif expr.is_Pow:\n",
    "        #     base, exp = expr.as_base_exp()\n",
    "        #     if base in generator_degrees:\n",
    "        #         # Apply the chain rule: d(a^n) = n * a^(n-1) * d(a)\n",
    "        #         return exp * base**(exp - 1) * differential_operator(base, generator_images, generator_degrees)\n",
    "        #     else:\n",
    "        #         return 0\n",
    "        if len(expr.terms())>1:\n",
    "            sum  = 0\n",
    "            for term in expr.terms():\n",
    "                sum += differential_operator(term, generator_images, generator_degrees, algebra=algebra)\n",
    "            return sum\n",
    "        elif len(str(expr.support()[0]).split('*'))>1:\n",
    " \n",
    "            path = str(expr.support()[0]).split('*')\n",
    " \n",
    "            coeff = expr.coefficients()[0]\n",
    "            algebra_path = []\n",
    "            for vertex in path:\n",
    "                for gen in algebra.gens():\n",
    "                    if vertex in str(gen):\n",
    "                        algebra_path.append(gen)\n",
    "            # Apply the derivation relation: d(a * b) = d(a) * b + a * d(b)\n",
    "   \n",
    "                        \n",
    "            first_term = coeff*differential_operator(algebra_path[0], generator_images, generator_degrees, algebra=algebra) * alg_mul(*algebra_path[1:])\n",
    "            degree_of_first = generator_degrees.get(algebra_path[0], 0)\n",
    "\n",
    "            second_term = (-1)**degree_of_first *coeff* algebra_path[0] * differential_operator(alg_mul(*algebra_path[1:]), generator_images, generator_degrees, algebra=algebra)\n",
    "            return first_term + second_term\n",
    "        else:\n",
    "            coeff = expr.coefficients()[0]\n",
    "            if 1/coeff * expr in generator_images:\n",
    "                return coeff * generator_images[1/coeff * expr]\n",
    "            else:\n",
    "                return 0"
   ]
  }
 ],
 "metadata": {
  "kernelspec": {
   "display_name": "SageMath 10.2",
   "language": "sage",
   "name": "sagemath"
  },
  "language_info": {
   "codemirror_mode": {
    "name": "ipython",
    "version": 3
   },
   "file_extension": ".py",
   "mimetype": "text/x-python",
   "name": "python",
   "nbconvert_exporter": "python",
   "pygments_lexer": "ipython3",
   "version": "3.11.1"
  }
 },
 "nbformat": 4,
 "nbformat_minor": 2
}
