{
 "cells": [
  {
   "cell_type": "markdown",
   "metadata": {},
   "source": [
    "# Combinatorics Related to CE DGA's"
   ]
  },
  {
   "cell_type": "code",
   "execution_count": 7,
   "metadata": {
    "vscode": {
     "languageId": "python"
    }
   },
   "outputs": [],
   "source": [
    "from dataclasses import dataclass\n",
    "from typing import List, Set, Tuple\n",
    "\n",
    "\n",
    "\n",
    "class Crossing:\n",
    "    def __init__(self, name: str):\n",
    "        self.name = name\n",
    "\n",
    "    def __hash__(self):\n",
    "        return hash(self.name)\n",
    "    \n",
    "    def __str__(self):\n",
    "        return self.name\n",
    "    \n",
    "\n",
    "PLUS = '+'\n",
    "MINUS = '-'\n",
    "\n",
    "\n",
    "class Sector:\n",
    "    def __init__(self, sign: str):\n",
    "        self.sign = sign\n",
    "        \n",
    "    def __hash__(self):\n",
    "        return hash(self.sign)\n",
    "\n",
    "plus = Sector(PLUS)\n",
    "minus = Sector(MINUS)\n",
    "\n",
    "\n",
    "class Loop:\n",
    "    def __init__(self, crossing: Crossing):\n",
    "        self.crossing = crossing\n",
    "\n",
    "    def __hash__(self):\n",
    "        return hash(self.crossing)\n",
    "\n",
    "\n",
    "@dataclass\n",
    "class Move:\n",
    "    crossing: str\n",
    "    sector: Sector\n",
    "    loops: List[Loop]"
   ]
  },
  {
   "cell_type": "code",
   "execution_count": 2,
   "metadata": {
    "vscode": {
     "languageId": "python"
    }
   },
   "outputs": [],
   "source": [
    "\n",
    "# x_p = (Crossing('x'), plus),\n",
    "# x_m = (Crossing('x'), minus),\n",
    "# y_p = (Crossing('y'), plus),\n",
    "# y_m = (Crossing('y'), minus),\n",
    "# z_p = (Crossing('z'), plus),\n",
    "# z_m = (Crossing('z'), minus),\n",
    "# p_p = (Crossing('p'), plus),\n",
    "# p_m = (Crossing('p'), minus),\n",
    "# q_p = (Crossing('q'), plus),\n",
    "# q_m = (Crossing('q'), minus),\n",
    "# r_p = (Crossing('r'), plus),\n",
    "# r_m = (Crossing('r'), minus),\n",
    "# s_p = (Crossing('s'), plus),\n",
    "# s_m = (Crossing('s'), minus),\n",
    "# a_p = (Crossing('a'), plus),\n",
    "# a_m = (Crossing('a'), minus),\n",
    "# b_p = (Crossing('b'), plus),\n",
    "# b_m = (Crossing('b'), minus),\n",
    "# c_p = (Crossing('c'), plus),\n",
    "# c_m = (Crossing('c'), minus)\n",
    "\n",
    "x = Crossing('x')\n",
    "y = Crossing('y')\n",
    "z = Crossing('z')\n",
    "p = Crossing('p')\n",
    "q = Crossing('q')\n",
    "r = Crossing('r')\n",
    "s = Crossing('s')\n",
    "a = Crossing('a')\n",
    "b = Crossing('b')\n",
    "c = Crossing('c')\n",
    "\n",
    "l_a = Loop(a)\n",
    "l_b = Loop(b)\n",
    "l_c = Loop(c)\n"
   ]
  },
  {
   "cell_type": "code",
   "execution_count": 3,
   "metadata": {
    "vscode": {
     "languageId": "python"
    }
   },
   "outputs": [],
   "source": [
    "legal_moves: dict[Tuple, Move] = {\n",
    "    (x,plus): [\n",
    "        Move(y, plus, []),\n",
    "        Move(a, minus, [l_a]),\n",
    "        Move(x, plus, [l_a]),\n",
    "        Move(r, plus, [l_a]),\n",
    "        Move(z, plus, [l_a]),\n",
    "        Move(b, plus, [l_a, l_b]),\n",
    "        ],\n",
    "    (x,minus): [\n",
    "        Move(z, minus, [l_b]),\n",
    "        Move(r, minus, [l_b])\n",
    "        ],\n",
    "    (y,plus): [\n",
    "        Move(r, plus, []),\n",
    "        Move(z, plus, []),\n",
    "        Move(b, plus, [])\n",
    "    ],\n",
    "    (y, minus): [\n",
    "        Move(x, minus, [])\n",
    "        ],\n",
    "    (z, plus): [\n",
    "        Move(a, minus, [l_a]),\n",
    "        Move(x, plus, [l_a]),\n",
    "        Move(r, plus, [l_a]),\n",
    "        Move(b, plus, [l_a, l_b]),\n",
    "        ],\n",
    "    (z, minus): [\n",
    "        Move(y, minus, []),\n",
    "        Move(z, minus, [l_b]),\n",
    "        Move(b, minus, [l_b]),\n",
    "        Move(r, minus, [l_b]),\n",
    "        Move(x, minus, [l_b]),\n",
    "    ],\n",
    "    (p, plus): [],\n",
    "    (p, minus): [\n",
    "        Move(x, plus, []),\n",
    "        Move(r, plus, []),\n",
    "        Move(z, plus, []),\n",
    "        Move(b, plus, [l_b])\n",
    "    ],\n",
    "    (q, plus): [\n",
    "        Move(r, plus, []),\n",
    "        Move(b, plus, [l_b])\n",
    "    ],\n",
    "    (q, minus): [\n",
    "        Move(x, minus, []),\n",
    "    ],\n",
    "    (r, plus): [],\n",
    "    (r, minus): [\n",
    "        Move(q, minus, []),\n",
    "        Move(p, minus, []),\n",
    "        Move(c, plus, [])\n",
    "    ],\n",
    "    (s, plus): [],\n",
    "    (s, minus): [\n",
    "        Move(q, minus, []),\n",
    "        Move(p, minus, []),\n",
    "        Move(c, plus, [])\n",
    "    ],\n",
    "    (a, plus): [\n",
    "        Move(a, minus, [l_a]),\n",
    "        Move(s, minus, [l_a]),\n",
    "        Move(x, plus, [l_a]),\n",
    "        Move(r, plus, [l_a]),\n",
    "        Move(z, plus, [l_a]),\n",
    "        Move(b, plus, [l_a, l_b])\n",
    "    ],\n",
    "    (a, minus): [\n",
    "        Move(y, minus, []),\n",
    "        Move(b, minus, [l_b]),\n",
    "        Move(z, minus, [l_b]),\n",
    "        Move(r, minus, [l_b]),\n",
    "        Move(x, minus, [l_b])\n",
    "    ],\n",
    "    (b, plus): [\n",
    "        Move(b, minus, [l_b]),\n",
    "        Move(z, minus, [l_b]),\n",
    "        Move(r, minus, [l_b]),\n",
    "        Move(x, minus, [l_b])\n",
    "    ],\n",
    "    (b, minus): [\n",
    "        Move(y, plus, []),\n",
    "        Move(a, minus, [l_a]),\n",
    "        Move(x, plus, [l_a]),\n",
    "        Move(r, plus, [l_a]),\n",
    "        Move(z, plus, [l_a]),\n",
    "        Move(b, plus, [l_a, l_b])\n",
    "    ],\n",
    "    (c, plus): [],\n",
    "    (c, minus): []\n",
    "    \n",
    "}\n",
    "\n",
    "start_moves = [\n",
    "    Move(q, minus, []),\n",
    "    Move(p, minus, []),\n",
    "    Move(c, plus, [])\n",
    "]"
   ]
  },
  {
   "cell_type": "code",
   "execution_count": 8,
   "metadata": {
    "vscode": {
     "languageId": "python"
    }
   },
   "outputs": [],
   "source": [
    "def generate_permissible_words(legal_moves, start_moves, max_depth):\n",
    "    \"\"\"\n",
    "    Generates all permissible words based on the start moves, legal moves, and loop constraints.\n",
    "\n",
    "    Parameters:\n",
    "    - legal_moves: The dictionary of legal moves.\n",
    "    - start_moves: A list of Move objects where the word can start.\n",
    "    - max_depth: The maximum length of the generated word.\n",
    "\n",
    "    Returns:\n",
    "    - A list of permissible sequences of moves that start from a given set of start moves and end at crossing 'c'.\n",
    "    \"\"\"\n",
    "\n",
    "    def traverse(current_crossing, current_sector, current_word, traversed_loops: Set[Loop], depth):\n",
    "        # Base case: If the maximum depth is reached, return the word only if it ends at crossing 'c'\n",
    "        if depth == max_depth:\n",
    "            return current_word\n",
    "        if current_crossing == c:  # Check if the current crossing is 'c'\n",
    "            return [current_word]\n",
    "\n",
    "\n",
    "        words = []\n",
    "        # Get the legal moves from the current crossing-sector pair\n",
    "        for move in legal_moves.get((current_crossing, current_sector)):\n",
    "            assert isinstance(move, Move)\n",
    "            # Check if any loop in the current move has already been traversed\n",
    "            if all(loop not in traversed_loops for loop in move.loops):\n",
    "                # Update the current word and traversed loops\n",
    "                new_word = current_word + [move.crossing]\n",
    "                new_traversed_loops = traversed_loops | set(move.loops)\n",
    "                # Recursively traverse to find all permissible words\n",
    "                words.extend(traverse(move.crossing, move.sector, new_word, new_traversed_loops, depth + 1))\n",
    "\n",
    "        return words\n",
    "\n",
    "    # Initialize the traversal from all start moves\n",
    "    all_words = []\n",
    "    for move in start_moves:\n",
    "        # Start traversing from each of the start moves\n",
    "        words_from_start = traverse(move.crossing, move.sector, [move.crossing], set(), 1)\n",
    "        all_words.extend(words_from_start)\n",
    "\n",
    "    return all_words\n",
    "\n"
   ]
  },
  {
   "cell_type": "code",
   "execution_count": 9,
   "metadata": {
    "vscode": {
     "languageId": "python"
    }
   },
   "outputs": [
    {
     "ename": "AssertionError",
     "evalue": "",
     "output_type": "error",
     "traceback": [
      "\u001b[0;31m---------------------------------------------------------------------------\u001b[0m",
      "\u001b[0;31mAssertionError\u001b[0m                            Traceback (most recent call last)",
      "Cell \u001b[0;32mIn [9], line 1\u001b[0m\n\u001b[0;32m----> 1\u001b[0m perm_words \u001b[38;5;241m=\u001b[39m \u001b[43mgenerate_permissible_words\u001b[49m\u001b[43m(\u001b[49m\u001b[43mlegal_moves\u001b[49m\u001b[43m,\u001b[49m\u001b[43m \u001b[49m\u001b[43mstart_moves\u001b[49m\u001b[43m,\u001b[49m\u001b[43m \u001b[49m\u001b[43mInteger\u001b[49m\u001b[43m(\u001b[49m\u001b[38;5;241;43m50\u001b[39;49m\u001b[43m)\u001b[49m\u001b[43m)\u001b[49m\n\u001b[1;32m      2\u001b[0m \u001b[38;5;28;01mfor\u001b[39;00m word \u001b[38;5;129;01min\u001b[39;00m perm_words:\n\u001b[1;32m      3\u001b[0m     \u001b[38;5;28mprint\u001b[39m(word)\n",
      "Cell \u001b[0;32mIn [8], line 40\u001b[0m, in \u001b[0;36mgenerate_permissible_words\u001b[0;34m(legal_moves, start_moves, max_depth)\u001b[0m\n\u001b[1;32m     37\u001b[0m all_words \u001b[38;5;241m=\u001b[39m []\n\u001b[1;32m     38\u001b[0m \u001b[38;5;28;01mfor\u001b[39;00m move \u001b[38;5;129;01min\u001b[39;00m start_moves:\n\u001b[1;32m     39\u001b[0m     \u001b[38;5;66;03m# Start traversing from each of the start moves\u001b[39;00m\n\u001b[0;32m---> 40\u001b[0m     words_from_start \u001b[38;5;241m=\u001b[39m \u001b[43mtraverse\u001b[49m\u001b[43m(\u001b[49m\u001b[43mmove\u001b[49m\u001b[38;5;241;43m.\u001b[39;49m\u001b[43mcrossing\u001b[49m\u001b[43m,\u001b[49m\u001b[43m \u001b[49m\u001b[43mmove\u001b[49m\u001b[38;5;241;43m.\u001b[39;49m\u001b[43msector\u001b[49m\u001b[43m,\u001b[49m\u001b[43m \u001b[49m\u001b[43m[\u001b[49m\u001b[43mmove\u001b[49m\u001b[38;5;241;43m.\u001b[39;49m\u001b[43mcrossing\u001b[49m\u001b[43m]\u001b[49m\u001b[43m,\u001b[49m\u001b[43m \u001b[49m\u001b[38;5;28;43mset\u001b[39;49m\u001b[43m(\u001b[49m\u001b[43m)\u001b[49m\u001b[43m,\u001b[49m\u001b[43m \u001b[49m\u001b[43mInteger\u001b[49m\u001b[43m(\u001b[49m\u001b[38;5;241;43m1\u001b[39;49m\u001b[43m)\u001b[49m\u001b[43m)\u001b[49m\n\u001b[1;32m     41\u001b[0m     all_words\u001b[38;5;241m.\u001b[39mextend(words_from_start)\n\u001b[1;32m     43\u001b[0m \u001b[38;5;28;01mreturn\u001b[39;00m all_words\n",
      "Cell \u001b[0;32mIn [8], line 25\u001b[0m, in \u001b[0;36mgenerate_permissible_words.<locals>.traverse\u001b[0;34m(current_crossing, current_sector, current_word, traversed_loops, depth)\u001b[0m\n\u001b[1;32m     23\u001b[0m \u001b[38;5;66;03m# Get the legal moves from the current crossing-sector pair\u001b[39;00m\n\u001b[1;32m     24\u001b[0m \u001b[38;5;28;01mfor\u001b[39;00m move \u001b[38;5;129;01min\u001b[39;00m legal_moves\u001b[38;5;241m.\u001b[39mget((current_crossing, current_sector)):\n\u001b[0;32m---> 25\u001b[0m     \u001b[38;5;28;01massert\u001b[39;00m \u001b[38;5;28misinstance\u001b[39m(move, Move)\n\u001b[1;32m     26\u001b[0m     \u001b[38;5;66;03m# Check if any loop in the current move has already been traversed\u001b[39;00m\n\u001b[1;32m     27\u001b[0m     \u001b[38;5;28;01mif\u001b[39;00m \u001b[38;5;28mall\u001b[39m(loop \u001b[38;5;129;01mnot\u001b[39;00m \u001b[38;5;129;01min\u001b[39;00m traversed_loops \u001b[38;5;28;01mfor\u001b[39;00m loop \u001b[38;5;129;01min\u001b[39;00m move\u001b[38;5;241m.\u001b[39mloops):\n\u001b[1;32m     28\u001b[0m         \u001b[38;5;66;03m# Update the current word and traversed loops\u001b[39;00m\n",
      "\u001b[0;31mAssertionError\u001b[0m: "
     ]
    }
   ],
   "source": [
    "perm_words = generate_permissible_words(legal_moves, start_moves, 50)\n",
    "for word in perm_words:\n",
    "    print(word)"
   ]
  },
  {
   "cell_type": "code",
   "execution_count": 6,
   "metadata": {
    "vscode": {
     "languageId": "python"
    }
   },
   "outputs": [
    {
     "name": "stdout",
     "output_type": "stream",
     "text": [
      "[]\n"
     ]
    }
   ],
   "source": [
    "print(perm_words)"
   ]
  }
 ],
 "metadata": {
  "kernelspec": {
   "display_name": "SageMath 10.2",
   "language": "sage",
   "name": "sagemath"
  },
  "language_info": {
   "codemirror_mode": {
    "name": "ipython",
    "version": 3
   },
   "file_extension": ".py",
   "mimetype": "text/x-python",
   "name": "sage",
   "nbconvert_exporter": "python",
   "pygments_lexer": "ipython3",
   "version": "3.11.1"
  }
 },
 "nbformat": 4,
 "nbformat_minor": 2
}
